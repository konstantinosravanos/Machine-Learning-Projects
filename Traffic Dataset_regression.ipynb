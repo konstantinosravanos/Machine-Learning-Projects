{
 "cells": [
  {
   "cell_type": "markdown",
   "id": "3a21b3e64531c622",
   "metadata": {},
   "source": [
    "ΚΑΘΟΡΙΣΜΟΣ ΤΟΥ DIRECTORY ΟΠΟΥ ΒΡΙΣΚΕΤΑΙ ΤΟ ΑΡΧΕΙΟ"
   ]
  },
  {
   "cell_type": "code",
   "execution_count": null,
   "id": "92cd184b-ffe0-433c-a87b-6d5d62b0d781",
   "metadata": {
    "is_executing": true,
    "tags": []
   },
   "outputs": [],
   "source": [
    "pwd #Καθορίζει το path file του αρχείου"
   ]
  },
  {
   "cell_type": "markdown",
   "id": "ee306e5cea9f96ec",
   "metadata": {},
   "source": [
    "ΕΙΣΑΓΩΓΗ ΤΩΝ ΑΠΑΡΑΙΤΡΗΤΩΝ ΒΙΒΛΙΟΘΗΚΩΝ ΓΙΑ ΤΗΝ ΕΚΤΕΛΕΣΗ ΤΟΥ ΚΩΔΙΚΑ"
   ]
  },
  {
   "cell_type": "code",
   "execution_count": null,
   "id": "98b42f44-2e34-4524-a505-15cab0feebba",
   "metadata": {
    "is_executing": true,
    "tags": []
   },
   "outputs": [],
   "source": [
    "#Βιβλιοθήκες για την εισαγωγή και επεξεργασία των δεδομένων\n",
    "import pandas as pd\n",
    "import numpy as np\n",
    "\n",
    "\n",
    "#Βιβλιοθήκες για την εκτύπωση των διαγραμμάτων\n",
    "import matplotlib.pyplot as plt\n",
    "import matplotlib.cm as cm\n",
    "import seaborn as sns\n",
    "from scipy import stats\n",
    "\n",
    "#Βιβλιοθήκη scikit learn για την εκπαίδευση των μοντέλων\n",
    "from sklearn.linear_model import LogisticRegression\n",
    "from sklearn.model_selection import train_test_split\n",
    "from sklearn.metrics import confusion_matrix, classification_report, roc_curve, auc\n",
    "from sklearn.metrics import accuracy_score\n",
    "from sklearn.pipeline import Pipeline\n",
    "from sklearn.preprocessing import StandardScaler\n",
    "from sklearn.feature_selection import SelectKBest\n",
    "from sklearn import metrics\n",
    "\n",
    "#Βιβλιοθήκη pingouin \n",
    "import pingouin as pg\n",
    "\n",
    "#Βιβλιοθήκη statsmodels \n",
    "import statsmodels.api as sm\n",
    "from statsmodels.sandbox.regression.predstd import wls_prediction_std\n",
    "from statsmodels.sandbox.regression.predstd import wls_prediction_std"
   ]
  },
  {
   "cell_type": "markdown",
   "id": "20170a35e54090c3",
   "metadata": {},
   "source": [
    "ΚΑΘΟΡΙΣΜΟΣ ΑΚΡΙΒΕΙΑΣ ΤΟΥ ΜΟΝΤΕΛΟΥ"
   ]
  },
  {
   "cell_type": "code",
   "execution_count": null,
   "id": "101a8ed5-cbd1-4405-82f7-c08141dc1801",
   "metadata": {
    "is_executing": true,
    "tags": []
   },
   "outputs": [],
   "source": [
    "#Καθορισμός ακριβείας του μοντέλου\n",
    "pd.set_option(\"display.precision\", 2)"
   ]
  },
  {
   "cell_type": "markdown",
   "id": "93efaf76b5b2e3e0",
   "metadata": {},
   "source": [
    "ΕΙΣΑΓΩΓΗ ΚΑΙ ΕΠΕΞΕΡΓΑΣΙΑ ΤΟΥ ΑΡΧΕΙΟΥ ΠΟΥ ΕΙΝΑΙ ΑΠΑΡΑΙΤΗΤΟ ΓΙΑ ΤΗΝ ΕΚΤΕΛΕΣΗ ΤΟΥ ΑΛΓΟΡΙΘΜΟΥ"
   ]
  },
  {
   "cell_type": "code",
   "execution_count": null,
   "id": "6ad8bc87-2cfe-4466-b038-0e1005b846bc",
   "metadata": {
    "ExecuteTime": {
     "end_time": "2024-05-20T11:37:01.720987Z",
     "start_time": "2024-05-20T11:37:01.689440Z"
    },
    "tags": []
   },
   "outputs": [],
   "source": [
    "#Αναγνώριση του αρχείου και εισαγωγή του στο πρόγραμμα\n",
    "df = pd.read_csv('data/Rain Dataset.csv')\n",
    "\n",
    "#Δημιουργία DataFrame\n",
    "df.head() \n",
    "\n",
    "#Δίνει την εκτύπωση των πέντε πρώτων στηλών των δεδομένων\n",
    "print(df.head())"
   ]
  },
  {
   "cell_type": "markdown",
   "id": "7c695aa8b831ed9",
   "metadata": {},
   "source": [
    "ΣΥΝΟΠΤΙΚΗ ΠΑΡΟΥΣΙΑΣΗ ΤΩΝ ΔΕΔΟΜΕΝΩΝ ΠΡΙΝ ΑΠΟ ΤΗΝ ΑΦΑΙΡΕΣΗ ΤΟΝ ΤΙΜΩΝ ΠΟΥ ΤΕΙΝΟΥΝ ΣΤΟ ΑΠΕΙΡΟ ΚΑΙ ΤΩΝ ΤΙΜΩΝ NaN"
   ]
  },
  {
   "cell_type": "code",
   "execution_count": null,
   "id": "790051440fb9c5fc",
   "metadata": {
    "ExecuteTime": {
     "end_time": "2024-05-20T11:37:03.604130Z",
     "start_time": "2024-05-20T11:37:03.587653Z"
    },
    "tags": []
   },
   "outputs": [],
   "source": [
    "#Επιστρέφει το σύνολο των γραμμών του αρχείου στο οποίο βρίσκονται τα δεδομένα\n",
    "len(df)"
   ]
  },
  {
   "cell_type": "code",
   "execution_count": null,
   "id": "be7d04404942eba0",
   "metadata": {
    "ExecuteTime": {
     "end_time": "2024-05-20T11:37:04.056019Z",
     "start_time": "2024-05-20T11:37:04.046432Z"
    },
    "tags": []
   },
   "outputs": [],
   "source": [
    "#Επιστρέφει το σύνολο των στηλών του αρχείου στο οποίο βρίσκονται τα δεδομένα\n",
    "df.columns"
   ]
  },
  {
   "cell_type": "code",
   "execution_count": null,
   "id": "a1d80795b2eb91d4",
   "metadata": {
    "ExecuteTime": {
     "end_time": "2024-05-20T11:37:04.501910Z",
     "start_time": "2024-05-20T11:37:04.494876Z"
    },
    "tags": []
   },
   "outputs": [],
   "source": [
    "#Δίνει τον τύπο των δεδομένων που περιέχονται στις στήλες του αρχείου\n",
    "df.dtypes"
   ]
  },
  {
   "cell_type": "code",
   "execution_count": null,
   "id": "45ac1bcd5565eca",
   "metadata": {
    "ExecuteTime": {
     "end_time": "2024-05-20T11:37:05.465897Z",
     "start_time": "2024-05-20T11:37:05.444328Z"
    },
    "tags": []
   },
   "outputs": [],
   "source": [
    "#Επιστρέφει τα στατιστικά περιγραφικά στοιχεία κάθε μεταβλητής του dataset\n",
    "df.describe()"
   ]
  },
  {
   "cell_type": "code",
   "execution_count": null,
   "id": "62427b775517df24",
   "metadata": {
    "ExecuteTime": {
     "end_time": "2024-05-20T11:37:06.175986Z",
     "start_time": "2024-05-20T11:37:06.170497Z"
    },
    "tags": []
   },
   "outputs": [],
   "source": [
    "#Εκτυπώνει το είδος της κάθε μεταβλητής του dataset \n",
    "print(df.dtypes)"
   ]
  },
  {
   "cell_type": "markdown",
   "id": "934cd89af9d784d5",
   "metadata": {},
   "source": [
    "ΕΠΕΞΕΡΓΑΣΙΑ ΤΟΥ DATASET ΚΑΙ ΕΚΑΘΑΡΙΣΜΟΣ ΤΩΝ ΤΙΜΩΝ ΠΟΥ ΤΕΙΝΟΥΝ ΣΤΟ ΑΠΕΙΡΟ ΚΑΙ ΤΩΝ ΤΙΜΩΝ NaN"
   ]
  },
  {
   "cell_type": "code",
   "execution_count": null,
   "id": "86c8d96083a3c91a",
   "metadata": {
    "ExecuteTime": {
     "end_time": "2024-05-20T11:37:07.671913Z",
     "start_time": "2024-05-20T11:37:07.665437Z"
    },
    "tags": []
   },
   "outputs": [],
   "source": [
    "# Έλεγχος για άπειρες τιμές\n",
    "inf_summary = df.isin([np.inf, -np.inf]).sum()\n",
    "print(\"Infinite values per column:\")\n",
    "print(inf_summary)\n",
    "\n",
    "# Λήψη γραμμών με άπειρες τιμές\n",
    "inf_rows = df[df.isin([np.inf, -np.inf]).any(axis=1)]\n",
    "print(\"Rows with infinite values:\")\n",
    "print(inf_rows)\n",
    "\n",
    "# Έλεγχος για NaN τιμές\n",
    "nan_summary = df.isna().sum()\n",
    "print(\"NaN values per column:\")\n",
    "print(nan_summary)\n",
    "\n",
    "# Λήψη γραμμών με NaN τιμές - ωστε να γινει ο καταλληλος χειρισμος σε μεταγενεστερο επιπεδο στατιστικης αναλυσης\n",
    "nan_rows = df[df.isna().any(axis=1)]\n",
    "print(\"Rows with NaN values:\")\n",
    "print(nan_rows)\n",
    "   "
   ]
  },
  {
   "cell_type": "markdown",
   "id": "e7edeb0418d63ac9",
   "metadata": {},
   "source": [
    "ΔΙΑΓΡΑΜΜΑΤΑ"
   ]
  },
  {
   "cell_type": "code",
   "execution_count": null,
   "id": "6829fb6ea865f456",
   "metadata": {
    "ExecuteTime": {
     "end_time": "2024-05-20T11:37:13.367821Z",
     "start_time": "2024-05-20T11:37:12.141729Z"
    },
    "tags": []
   },
   "outputs": [],
   "source": [
    "# Ιστογράμματα για την παρουσίαση της συχνότητας των τιμών που παρουσιάζει η κάθε μεταβλητή\n",
    "\n",
    "# Εξαίρεση των μη αριθμητικών στηλών για την δημιουργία ιστογραμμάτων\n",
    "numeric_df = df.select_dtypes(include=[np.number])\n",
    "\n",
    "# Δημιουργία ιστογραμμάτων για κάθε αριθμητική στήλη\n",
    "numeric_df.hist(bins=30, figsize=(15, 10), edgecolor='black')\n",
    "plt.suptitle('Ιστογράμματα Συχνότητας των Μεταβλητών', fontsize=16)\n",
    "plt.tight_layout(rect=[0, 0.03, 1, 0.95])\n",
    "plt.show()\n"
   ]
  },
  {
   "cell_type": "code",
   "execution_count": null,
   "id": "5f717914551a7b4",
   "metadata": {
    "ExecuteTime": {
     "end_time": "2024-05-20T11:37:14.424353Z",
     "start_time": "2024-05-20T11:37:13.367821Z"
    },
    "tags": []
   },
   "outputs": [],
   "source": [
    "# Δημιουργία ιστογραμμάτων για κάθε αριθμητική στήλη\n",
    "for column in numeric_df.columns:\n",
    "    plt.figure(figsize=(10, 6))\n",
    "    n, bins, patches = plt.hist(numeric_df[column], bins=30, edgecolor='black')\n",
    "\n",
    "    # Εύρεση του bin με τη μεγαλύτερη συχνότητα\n",
    "    max_bin = np.argmax(n)\n",
    "    \n",
    "    # Χρωματισμός του bin με τη μεγαλύτερη συχνότητα σε κόκκινο\n",
    "    for i in range(len(patches)):\n",
    "        if i == max_bin:\n",
    "            patches[i].set_facecolor('red')\n",
    "    \n",
    "    plt.title(f'Ιστόγραμμα Συχνότητας της Μεταβλητής {column}')\n",
    "    plt.xlabel(column)\n",
    "    plt.ylabel('Συχνότητα')\n",
    "    plt.show()"
   ]
  },
  {
   "cell_type": "code",
   "execution_count": null,
   "id": "f60cfc8ae8e6d973",
   "metadata": {
    "ExecuteTime": {
     "end_time": "2024-05-20T11:37:16.537644Z",
     "start_time": "2024-05-20T11:37:15.112487Z"
    },
    "tags": []
   },
   "outputs": [],
   "source": [
    "# Δημιουργία scatterplots για κάθε ζεύγος αριθμητικών στηλών\n",
    "sns.pairplot(numeric_df)\n",
    "plt.suptitle('Διαγράμματα Διασποράς για τις Μεταβλητές', y=1.02, fontsize=16)\n",
    "plt.show()\n"
   ]
  },
  {
   "cell_type": "markdown",
   "id": "b5766583ae76474",
   "metadata": {},
   "source": [
    "\n",
    "ΣΥΝΤΕΛΕΣΤΗΣ ΣΥΣΧΕΤΙΣΗΣ"
   ]
  },
  {
   "cell_type": "code",
   "execution_count": null,
   "id": "1704a35898cc85d9",
   "metadata": {
    "ExecuteTime": {
     "end_time": "2024-05-20T11:37:18.788518Z",
     "start_time": "2024-05-20T11:37:18.002272Z"
    },
    "tags": []
   },
   "outputs": [],
   "source": [
    "# Μετατροπή της στήλης ημερομηνίας σε datetime μεταβλητή\n",
    "df['Date'] = pd.to_datetime(df['Date'])\n",
    "    \n",
    "# Μετατροπή της στήλης ημερομηνίας σε αριθμητική τιμή (timestamp)\n",
    "df['Timestamp'] = df['Date'].apply(lambda x: x.timestamp())\n",
    "    \n",
    "# Αφαίρεση της αρχικής στήλης ημερομηνίας\n",
    "df = df.drop(columns=['Date'])\n",
    "    \n",
    "# Μετονομασία της στήλης Timestamp σε Date_Timestamp\n",
    "df = df.rename(columns={'Timestamp': 'Date_Timestamp'})\n",
    "\n",
    "# Μετατροπή των κατηγορικών μεταβλητών σε dummy variables\n",
    "categorical_df = df.select_dtypes(include=[object])\n",
    "categorical_encoded_df = pd.get_dummies(categorical_df, drop_first=True).astype(int)\n",
    "\n",
    "# Επιλογή αριθμητικών στηλών\n",
    "numeric_df = df.select_dtypes(include=[np.number])\n",
    "\n",
    "# Συνδυασμός αριθμητικών και κωδικοποιημένων κατηγορικών μεταβλητών\n",
    "combined_df = pd.concat([numeric_df, categorical_encoded_df], axis=1)\n",
    "\n",
    "# Αναθέση του df στο combined_df για συνέχιση των βημάτων με το ίδιο όνομα μεταβλητής\n",
    "df = combined_df\n",
    "\n",
    "# Υπολογισμός του πίνακα συσχέτισης\n",
    "correlation_matrix = df.corr()\n",
    "\n",
    "# Δημιουργία heatmap για την απεικόνιση του πίνακα συσχέτισης\n",
    "plt.figure(figsize=(20, 15))\n",
    "sns.heatmap(correlation_matrix, annot=False, cmap='coolwarm', fmt=\".2f\", linewidths=0.5)\n",
    "plt.title('Πίνακας Συσχέτισης των Μεταβλητών', fontsize=16)\n",
    "plt.show()"
   ]
  },
  {
   "cell_type": "markdown",
   "id": "58dd4b6ad836fd79",
   "metadata": {},
   "source": [
    "ΟΡΙΣΜΟΣ ΜΕΤΑΒΛΗΤΩΝ ΠΟΥ ΘΑ ΧΡΗΣΙΜΟΠΟΙΗΘΟΥΝ ΣΤΑ ΜΟΝΤΕΛΑ"
   ]
  },
  {
   "cell_type": "code",
   "execution_count": null,
   "id": "f444ec60-5a2f-43f9-9b90-21da66e2e8b0",
   "metadata": {
    "ExecuteTime": {
     "end_time": "2024-05-20T11:37:20.614016Z",
     "start_time": "2024-05-20T11:37:20.603042Z"
    },
    "tags": []
   },
   "outputs": [],
   "source": [
    "# Η χρήση της βροχόπτωσης (rainfall) ως εξαρτημένης μεταβλητής για ένα μοντέλο γραμμικής παλινδρόμησης έχει νόημα αν ο στόχος είναι να προβλέψουμε \n",
    "#το ποσό της βροχόπτωσης με βάση άλλες ανεξάρτητες μεταβλητές που απαρτιζουν το σύνολο των δεδομένων μας. Αυτή η προσέγγιση mας επιτρέπει να \n",
    "# κατανοήσoυμε πώς διάφοροι παράγοντες (όπως η θερμοκρασία, η υγρασία, η ταχύτητα του ανέμου κ.λπ.) επηρεάζουν τη βροχόπτωση.\n",
    "\n",
    "# Ορισμός της μεταβλητής Rainfall ως την εξαρτημένη μεταβλητή\n",
    "X = df.drop(columns=['Rainfall'])\n",
    "y = df['Rainfall']\n",
    "\n",
    "# Εμφάνιση των πρώτων λίγων γραμμών των X και y για να διασφαλιστεί ότι έχουν ρυθμιστεί σωστά\n",
    "print(\"Independent Variables (X):\")\n",
    "print(X.head())\n",
    "print(\"\\nDependent Variable (y):\")\n",
    "print(y.head())\n"
   ]
  },
  {
   "cell_type": "code",
   "execution_count": null,
   "id": "716ab729-dd19-47be-aa0d-a2b9528fcebb",
   "metadata": {
    "ExecuteTime": {
     "end_time": "2024-05-20T11:37:21.741264Z",
     "start_time": "2024-05-20T11:37:21.718133Z"
    },
    "tags": []
   },
   "outputs": [],
   "source": [
    "#Παίρνω το συνολικό αριθμό των γραμμών και των στηλών των ανεξάρτητων μεταβλητών X του dataset\n",
    "X.shape\n"
   ]
  },
  {
   "cell_type": "code",
   "execution_count": null,
   "id": "9b1619ba-1142-4522-b25c-5ee8e9bbd473",
   "metadata": {
    "ExecuteTime": {
     "end_time": "2024-05-20T11:37:23.922289Z",
     "start_time": "2024-05-20T11:37:23.915478Z"
    },
    "tags": []
   },
   "outputs": [],
   "source": [
    "#Δίνει τον τύπο δεδομένων της εξαρτημένης μεταβλητής Υ ως αντικείμενο κλάσης\n",
    "type(y)"
   ]
  },
  {
   "cell_type": "markdown",
   "id": "48080e4c24429b97",
   "metadata": {},
   "source": [
    "ΠΟΛΛΑΠΛΗ ΠΑΛΙΝΔΡΟΜΗΣΗ (STATSMODELS)"
   ]
  },
  {
   "cell_type": "code",
   "execution_count": null,
   "id": "cda9fdeb-459c-4773-813b-9ddd6324b268",
   "metadata": {
    "ExecuteTime": {
     "end_time": "2024-05-20T11:37:25.439431Z",
     "start_time": "2024-05-20T11:37:25.424913Z"
    },
    "tags": []
   },
   "outputs": [],
   "source": [
    "# Ορίζει τη σταθερά του μοντέλου\n",
    "X = sm.add_constant(X)"
   ]
  },
  {
   "cell_type": "code",
   "execution_count": null,
   "id": "79cc193a-328b-44eb-bd55-7e51c1f6d59d",
   "metadata": {
    "ExecuteTime": {
     "end_time": "2024-05-20T11:37:26.101767Z",
     "start_time": "2024-05-20T11:37:26.078871Z"
    },
    "tags": []
   },
   "outputs": [],
   "source": [
    "# Δημιουργία του μοντέλου πολλαπλής γραμμικής παλινδρόμησης\n",
    "model = sm.OLS(y, X).fit()"
   ]
  },
  {
   "cell_type": "code",
   "execution_count": null,
   "id": "4b8aaac9-149b-429c-a93a-0070231a0141",
   "metadata": {
    "ExecuteTime": {
     "end_time": "2024-05-20T11:37:26.732737Z",
     "start_time": "2024-05-20T11:37:26.706814Z"
    },
    "tags": []
   },
   "outputs": [],
   "source": [
    "#Visualization του μοντέλου (ANOVA Table, Coefficients, R-squared, etc.)\n",
    "print(model.summary())\n"
   ]
  },
  {
   "cell_type": "code",
   "execution_count": null,
   "id": "66ec7785bf9ef4ed",
   "metadata": {
    "ExecuteTime": {
     "end_time": "2024-05-20T11:37:27.633221Z",
     "start_time": "2024-05-20T11:37:27.614370Z"
    },
    "tags": []
   },
   "outputs": [],
   "source": [
    "#Πληροφορίες για τον τύπο του μοντέλου που χρησιμοποιήθηκε\n",
    "type(model)"
   ]
  },
  {
   "cell_type": "code",
   "execution_count": null,
   "id": "299db70b9bfa1267",
   "metadata": {
    "ExecuteTime": {
     "end_time": "2024-05-20T11:37:28.153255Z",
     "start_time": "2024-05-20T11:37:28.129748Z"
    },
    "tags": []
   },
   "outputs": [],
   "source": [
    "#Η εντολή δίνει μια πιο συνοπτική παρουσίαση του μοντέλου\n",
    "print(model.summary2())"
   ]
  },
  {
   "cell_type": "code",
   "execution_count": null,
   "id": "fd1cccbf46a9bf89",
   "metadata": {
    "ExecuteTime": {
     "end_time": "2024-05-20T11:37:29.408647Z",
     "start_time": "2024-05-20T11:37:29.382729Z"
    },
    "tags": []
   },
   "outputs": [],
   "source": [
    "#Δίνει την παρουσίαση του μοντέλου με μια καλύτερη μορφή από την προηγούμενη δημιουργώντας έναν πίνακα\n",
    "model.summary()"
   ]
  },
  {
   "cell_type": "code",
   "execution_count": null,
   "id": "baf7f684d406e2f",
   "metadata": {
    "ExecuteTime": {
     "end_time": "2024-05-20T11:37:30.078189Z",
     "start_time": "2024-05-20T11:37:30.071502Z"
    },
    "tags": []
   },
   "outputs": [],
   "source": [
    "#Εισάγει ένα dictionary το οποίο περιέχει τις τιμές κάποιων στατιστικών του μοντέλου πολλαπλής γραμμικής παλινδρόμησης\n",
    "model.diagn "
   ]
  },
  {
   "cell_type": "code",
   "execution_count": null,
   "id": "9952463a0c577d42",
   "metadata": {
    "ExecuteTime": {
     "end_time": "2024-05-20T11:37:30.644304Z",
     "start_time": "2024-05-20T11:37:30.630609Z"
    },
    "tags": []
   },
   "outputs": [],
   "source": [
    "#Επιστρέφει την τιμή του κριτηρίου Akaike του μοντέλου, που δείχνει την ποιότητα του μοντέλου σε σχέση με τον αριθμό των παραμέτρων του.\n",
    "model.aic"
   ]
  },
  {
   "cell_type": "code",
   "execution_count": null,
   "id": "a5a29be07d073ff6",
   "metadata": {
    "ExecuteTime": {
     "end_time": "2024-05-20T11:37:31.366136Z",
     "start_time": "2024-05-20T11:37:31.356416Z"
    },
    "tags": []
   },
   "outputs": [],
   "source": [
    "#Επιστρέφει την τιμή των t-values των παραμέτρων του μοντέλου. Υψηλό t-value σημαίνει ότι η παράμετρος είναι σημαντική.\n",
    "model.tvalues"
   ]
  },
  {
   "cell_type": "code",
   "execution_count": null,
   "id": "fb14cd4a44190d3f",
   "metadata": {
    "ExecuteTime": {
     "end_time": "2024-05-20T11:37:31.813476Z",
     "start_time": "2024-05-20T11:37:31.803636Z"
    },
    "tags": []
   },
   "outputs": [],
   "source": [
    "#Επιστρέφει τα p-values των παραμέτρων του μοντέλου. Χαμηλό p-value σημαίνει ότι η παράμετρος είναι σημαντική (p-value<0.05).\n",
    "model.pvalues"
   ]
  },
  {
   "cell_type": "code",
   "execution_count": null,
   "id": "f1ae609f83a8f8dd",
   "metadata": {
    "ExecuteTime": {
     "end_time": "2024-05-20T11:37:32.382411Z",
     "start_time": "2024-05-20T11:37:32.369992Z"
    },
    "tags": []
   },
   "outputs": [],
   "source": [
    "#Επιστρέφει τις τιμές των residuals του μοντέλου.\n",
    "model.resid"
   ]
  },
  {
   "cell_type": "code",
   "execution_count": null,
   "id": "51b749c6ce58a5f6",
   "metadata": {
    "ExecuteTime": {
     "end_time": "2024-05-20T11:37:32.947238Z",
     "start_time": "2024-05-20T11:37:32.935650Z"
    },
    "tags": []
   },
   "outputs": [],
   "source": [
    "#Δίνει περιγραφικά στατιστικά στοιχεία για τις τιμές των residuals του μοντέλου.\n",
    "pd.Series(model.resid).describe().round(2)"
   ]
  },
  {
   "cell_type": "code",
   "execution_count": null,
   "id": "96aafecc0783201d",
   "metadata": {
    "ExecuteTime": {
     "end_time": "2024-05-20T11:37:33.492245Z",
     "start_time": "2024-05-20T11:37:33.488189Z"
    },
    "tags": []
   },
   "outputs": [],
   "source": [
    "#Επιστρέψει το άθροισμα των τετραγωνικών καταλοίπων του μοντέλου.\n",
    "model.ssr"
   ]
  },
  {
   "cell_type": "code",
   "execution_count": null,
   "id": "53f462c3abab5d85",
   "metadata": {
    "ExecuteTime": {
     "end_time": "2024-05-20T11:37:34.141269Z",
     "start_time": "2024-05-20T11:37:34.118893Z"
    },
    "tags": []
   },
   "outputs": [],
   "source": [
    "#Δίνει ένα καινούριο DataFrame με δυο στήλες όπου στη μια στήλη είναι οι πραγματικες τιμές του y και στην άλλη οι προβλεπόμενες τιμές του y\n",
    "compare_pred_df = pd.DataFrame({'actual_y': y.squeeze(), 'y_hat':model.fittedvalues})\n",
    "#Επιστρέφει τι πρώτες 10 γραμμές του DataFrame\n",
    "compare_pred_df.head(10)"
   ]
  },
  {
   "cell_type": "markdown",
   "id": "769a47dce13907b7",
   "metadata": {},
   "source": [
    "ΔΙΑΓΡΑΜΜΑΤΑ ΠΟΛΛΑΠΛΗΣ ΠΛΑΙΝΔΡΟΜΗΣΗΣ"
   ]
  },
  {
   "cell_type": "code",
   "execution_count": null,
   "id": "3ea3878cce3e314f",
   "metadata": {
    "ExecuteTime": {
     "end_time": "2024-05-20T11:37:35.494890Z",
     "start_time": "2024-05-20T11:37:35.277683Z"
    },
    "tags": []
   },
   "outputs": [],
   "source": [
    "#Δημιουργεί ένα διάγραμμα αποκατανομής με τις πραγματικές τιμές του y στον άξονα x και τις προβλεπόμενες τιμές του y στον άξονα y\n",
    "sns.scatterplot(x=\"actual_y\", y=\"y_hat\", color=\"b\", data=compare_pred_df);"
   ]
  },
  {
   "cell_type": "code",
   "execution_count": null,
   "id": "553592d6b7300c20",
   "metadata": {
    "ExecuteTime": {
     "end_time": "2024-05-20T11:40:06.461473Z",
     "start_time": "2024-05-20T11:40:06.158236Z"
    },
    "tags": []
   },
   "outputs": [],
   "source": [
    "#Δημιουργεί ένα διάγραμμα αποκατανομής με τις πραγματικές τιμές της εξαρτημένης μεταβλητής TenYearCHD στον άξονα x και τις προβλεπόμενες τιμές της στον άξονα y\n",
    "sns.scatterplot(x=y.squeeze(), y=model.fittedvalues, color=\"b\");"
   ]
  },
  {
   "cell_type": "code",
   "execution_count": null,
   "id": "ac3077908b16382b",
   "metadata": {
    "ExecuteTime": {
     "end_time": "2024-05-20T11:37:44.212957Z",
     "start_time": "2024-05-20T11:37:43.464114Z"
    },
    "tags": []
   },
   "outputs": [],
   "source": [
    "#Δημιουργεί ένα διάγραμμα των τετραγωνικών καταλοίπων του μοντέλου σε σχέση με τις προβλεπόμενες τιμές του y\n",
    "sns.residplot(x=model.fittedvalues, y=model.resid, lowess=True, color=\"g\");"
   ]
  },
  {
   "cell_type": "code",
   "execution_count": null,
   "id": "72aea758a6663907",
   "metadata": {
    "ExecuteTime": {
     "end_time": "2024-05-20T11:37:45.225681Z",
     "start_time": "2024-05-20T11:37:45.000438Z"
    },
    "tags": []
   },
   "outputs": [],
   "source": [
    "#Δημιουργεί ένα Q-Q plot για τις τιμές των residuals του μοντέλου ώστε να διαπιστωθεί αν ακολουθούν κανονική κατανομή\n",
    "sm.qqplot(model.resid);\n",
    "plt.show()"
   ]
  },
  {
   "cell_type": "code",
   "execution_count": null,
   "id": "44a995cc95ec99f4",
   "metadata": {
    "ExecuteTime": {
     "end_time": "2024-05-20T11:37:46.215921Z",
     "start_time": "2024-05-20T11:37:45.898843Z"
    },
    "tags": []
   },
   "outputs": [],
   "source": [
    "#Δημιουργεί ένα διάγραμμα πυκνότητας πιθανότητας για τις τιμές των residuals του μοντέλου για να διαπιστωθεί αν ακολουθούν κανονική κατανομή\n",
    "stats.probplot(model.resid, plot=sns.mpl.pyplot);"
   ]
  },
  {
   "cell_type": "code",
   "execution_count": null,
   "id": "264e8ca9cbfeef33",
   "metadata": {
    "ExecuteTime": {
     "end_time": "2024-05-20T11:37:47.683724Z",
     "start_time": "2024-05-20T11:37:46.837004Z"
    },
    "tags": []
   },
   "outputs": [],
   "source": [
    "#Δημιουργεί ένα διάγραμμα κατανομής των καταλοίπων του μοντέλου που δείχνει πως κατανέμονται οι τιμές τους \n",
    "sns.displot(x=model.resid, kind=\"kde\");"
   ]
  },
  {
   "cell_type": "code",
   "execution_count": null,
   "id": "14d3f86642c0da4",
   "metadata": {
    "ExecuteTime": {
     "end_time": "2024-05-20T11:37:48.710844Z",
     "start_time": "2024-05-20T11:37:47.886288Z"
    },
    "tags": []
   },
   "outputs": [],
   "source": [
    "##Δημιουργεί ένα διάγραμμα κατανομής των καταλοίπων του μοντέλου που δείχνει πως κατανέμονται οι τιμές τους δημιουργώντας, επιπλέον, ένα ιστόγραμμα κάτω από την καμπύλη κατανομής \n",
    "sns.displot(x=model.resid, kde=True);"
   ]
  },
  {
   "cell_type": "code",
   "execution_count": null,
   "id": "cf4bbda4e5f9771f",
   "metadata": {
    "ExecuteTime": {
     "end_time": "2024-05-20T11:37:49.160706Z",
     "start_time": "2024-05-20T11:37:48.710844Z"
    },
    "tags": []
   },
   "outputs": [],
   "source": [
    "#Δημιουργεί ένα γράφημα αθροιστικής κατανομής των καταλοίπων του μοντέλου που δείχνει πως κατανέμονται οι τιμές τους\n",
    "sns.displot(x=model.resid, kind=\"ecdf\", rug=True);"
   ]
  },
  {
   "cell_type": "code",
   "execution_count": null,
   "id": "be763e4df265f8bf",
   "metadata": {
    "ExecuteTime": {
     "end_time": "2024-05-20T11:40:24.433125Z",
     "start_time": "2024-05-20T11:40:23.998791Z"
    },
    "tags": []
   },
   "outputs": [],
   "source": [
    "#Δημιουργεί ένα γράφημα αθροιστικής κατανομής των καταλοίπων του μοντέλου που δείχνει πως κατανέμονται οι τιμές τους χρησιμοποιώντας ευθείες αντί για συνεχή γραμμή\n",
    "sns.displot(x=y.squeeze(), kind=\"ecdf\",  rug=True);"
   ]
  },
  {
   "cell_type": "code",
   "execution_count": null,
   "id": "2909e7d37cf6843e",
   "metadata": {
    "ExecuteTime": {
     "end_time": "2024-05-20T11:37:50.083684Z",
     "start_time": "2024-05-20T11:37:49.617601Z"
    },
    "tags": []
   },
   "outputs": [],
   "source": [
    "# Μετατρέπει τα 'actual_y' και 'y_hat' σε αριθμητικές τιμές από αλφαριθμητικές\n",
    "compare_pred_df['actual_y'] = pd.to_numeric(compare_pred_df['actual_y'])\n",
    "compare_pred_df['y_hat'] = pd.to_numeric(compare_pred_df['y_hat'])\n",
    "\n",
    "# Δημιουργεί ένα γράφημα διασποράς μεταξύ των πραγματικών τιμών και των προβλεπόμενων τιμών του y με την ένταξη της γραμμής της ευθείας παλινδρόμησης στο γράφημα\n",
    "sns.lmplot(x=\"actual_y\", y=\"y_hat\", data=compare_pred_df)"
   ]
  },
  {
   "cell_type": "markdown",
   "id": "76229f835c25e7e0",
   "metadata": {},
   "source": [
    "ΑΦΑΙΡΕΣΗ ΜΗ ΣΤΑΤΙΣΤΙΚΑ ΣΗΜΑΝΤΙΚΩΝ ΜΕΤΑΒΛΗΤΩΝ ΑΠΟ ΤΟ ΜΟΝΤΕΛΟ\n"
   ]
  },
  {
   "cell_type": "code",
   "execution_count": null,
   "id": "26459c2da74a9132",
   "metadata": {
    "ExecuteTime": {
     "end_time": "2024-05-20T11:37:51.953048Z",
     "start_time": "2024-05-20T11:37:51.930336Z"
    },
    "tags": []
   },
   "outputs": [],
   "source": [
    "# Επαναπροσδιορισμός του μοντέλου με τις σημαντικότερες μεταβλητές που επηρεάζουν την εξαρτημένη μεταβλητή TenYearCHD\n",
    "X = df[[\"Sunshine\", \"Humidity3pm\", \"Cloud9am\", \"Cloud3pm\"]]\n",
    "X = sm.add_constant(X)\n",
    "\n",
    "#Δημιουργία του μοντέλου πολλαπλής γραμμικής παλινδρόμησης\n",
    "ols_results = sm.OLS(y, X).fit()\n",
    "ols_results.summary()"
   ]
  },
  {
   "cell_type": "markdown",
   "id": "770093df08111cc",
   "metadata": {},
   "source": [
    "ΛΟΓΙΣΤΙΚΗ ΠΑΛΙΝΔΡΟΜΗΣΗ (PINGOUIN)"
   ]
  },
  {
   "cell_type": "code",
   "execution_count": null,
   "id": "ccfa477f290ac3de",
   "metadata": {
    "ExecuteTime": {
     "end_time": "2024-05-20T11:37:53.377793Z",
     "start_time": "2024-05-20T11:37:53.372339Z"
    },
    "tags": []
   },
   "outputs": [],
   "source": [
    "# Θέλουμε να εκτελέσουμε μια λογιστική παλινδρόμηση για το αν θα βρέξει την επόμενη μέρα.Θα χρησιμοποιήσουμε \n",
    "# τη μεταβλητή RainTomorow. Είναι μια binary κατηγορικη μεταβλητη (Ναι/Όχι), καθιστώντας την ιδανική για ανάλυση λογιστικής παλινδρόμησης.\n",
    "\n",
    "\n",
    "# Μετονομασία της στήλης RainTomorrow_Yes σε RainTomorrow\n",
    "df.rename(columns={'RainTomorrow_Yes': 'RainTomorrow'}, inplace=True)\n",
    "\n",
    "# Ορισμός των X και y για λογιστική παλινδρόμηση\n",
    "X = df.drop(columns=['RainTomorrow'])\n",
    "y = df['RainTomorrow']\n",
    "\n",
    "# Διχοτόμηση των δεδομένων σε σύνολα εκπαίδευσης και ελέγχου με αναλογία 70% - 30%\n",
    "X_train, X_test, y_train, y_test = train_test_split(X, y, test_size=0.3, random_state=42)\n",
    "\n",
    "# Εκπαίδευση του μοντέλου λογιστικής παλινδρόμησης\n",
    "logistic_model = LogisticRegression(max_iter=1000)\n",
    "logistic_model.fit(X_train, y_train)\n",
    "\n",
    "# Πρόβλεψη στο σύνολο ελέγχου\n",
    "y_pred = logistic_model.predict(X_test)\n",
    "\n",
    "# Αξιολόγηση του μοντέλου\n",
    "conf_matrix = confusion_matrix(y_test, y_pred)\n",
    "class_report = classification_report(y_test, y_pred)\n",
    "accuracy = accuracy_score(y_test, y_pred)\n",
    "\n",
    "# Εμφάνιση των αποτελεσμάτων\n",
    "print(\"Confusion Matrix:\")\n",
    "print(conf_matrix)\n",
    "print(\"\\nClassification Report:\")\n",
    "print(class_report)\n",
    "print(f\"\\nAccuracy: {accuracy}\")"
   ]
  },
  {
   "cell_type": "code",
   "execution_count": null,
   "id": "46ec84e7ce310b30",
   "metadata": {
    "ExecuteTime": {
     "end_time": "2024-05-20T11:37:55.520190Z",
     "start_time": "2024-05-20T11:37:55.497975Z"
    },
    "tags": []
   },
   "outputs": [],
   "source": [
    "#Δίνει τον πίνακα που περιέχει τις τιμές των coefficients του μοντέλου λογιστικής παλινδρόμησης\n",
    "pg.logistic_regression(X.to_numpy(), y.to_numpy(),penalty=\"l2\", coef_only=True)"
   ]
  },
  {
   "cell_type": "markdown",
   "id": "aa36a92882acffd",
   "metadata": {},
   "source": [
    "ΠΡΟΓΡΑΜΜΑ ΑΠΟΤΕΛΕΣΜΑΤΙΚΟΤΗΤΑΣ ΤΟΥ ΜΟΝΤΕΛΟΥ"
   ]
  },
  {
   "cell_type": "code",
   "execution_count": null,
   "id": "5dda076e2ebf85aa",
   "metadata": {
    "ExecuteTime": {
     "end_time": "2024-05-20T11:37:57.261755Z",
     "start_time": "2024-05-20T11:37:57.255860Z"
    },
    "tags": []
   },
   "outputs": [],
   "source": [
    "# Δημιουργία πίνακα ταυτότητας με τις διαστάσεις του πίνακα των παραμέτρων του μοντέλου\n",
    "num_params = logistic_model.coef_.shape[1]\n",
    "identity_matrix = np.identity(num_params)\n",
    "\n",
    "print(\"\\nIdentity Matrix:\")\n",
    "print(identity_matrix)"
   ]
  },
  {
   "cell_type": "code",
   "execution_count": null,
   "id": "4d703c839e52c1f7",
   "metadata": {
    "ExecuteTime": {
     "end_time": "2024-05-20T11:37:57.742144Z",
     "start_time": "2024-05-20T11:37:57.726734Z"
    },
    "tags": []
   },
   "outputs": [],
   "source": [
    "# Εδώ κάνουμε F-test για τον έλεγχο της σημαντικότητας των παραμέτρων του μοντέλου εκτός της σταθεράς\n",
    "\n",
    "\n",
    "# Εμφάνιση των αποτελεσμάτων του μοντέλου\n",
    "logit_model = sm.Logit(y_train, X_train)\n",
    "fit_model = logit_model.fit()\n",
    "print(fit_model.summary2())\n",
    "\n",
    "# F-test για τον έλεγχο της σημαντικότητας των παραμέτρων του μοντέλου\n",
    "f_test = fit_model.f_test(\" + \".join(X_train.columns[1:]) + \" = 0\")\n",
    "print(\"\\nF-test για τις παραμέτρους:\")\n",
    "print(f_test)\n",
    "\n",
    "# Πρόβλεψη στο σύνολο ελέγχου\n",
    "y_pred = fit_model.predict(X_test)\n",
    "y_pred_class = (y_pred >= 0.5).astype(int)\n",
    "\n",
    "# Αξιολόγηση του μοντέλου\n",
    "conf_matrix = confusion_matrix(y_test, y_pred_class)\n",
    "class_report = classification_report(y_test, y_pred_class)\n",
    "accuracy = accuracy_score(y_test, y_pred_class)\n",
    "\n",
    "# Εμφάνιση των αποτελεσμάτων\n",
    "print(\"\\nConfusion Matrix:\")\n",
    "print(conf_matrix)\n",
    "print(\"\\nClassification Report:\")\n",
    "print(class_report)\n",
    "print(f\"\\nAccuracy: {accuracy}\")"
   ]
  },
  {
   "cell_type": "code",
   "execution_count": null,
   "id": "a3f6c7bf446cc13b",
   "metadata": {
    "ExecuteTime": {
     "end_time": "2024-05-20T11:37:58.204522Z",
     "start_time": "2024-05-20T11:37:58.188972Z"
    },
    "tags": []
   },
   "outputs": [],
   "source": [
    "#Δίνει τη μεταβολή της εξαρτημένης μεταβλητής RainTommorow για κάθε μονάδα αύξησης της  κάθε ανεξάρτητης μεταβλητής όταν οι άλλες παραμένουν σταθερές\n",
    "# Υπολογισμός των συντελεστών και των odds ratios\n",
    "coefficients = fit_model.params\n",
    "odds_ratios = np.exp(coefficients)\n",
    "\n",
    "print(\"\\nΣυντελεστές (Coefficients):\")\n",
    "print(coefficients)\n",
    "\n",
    "print(\"\\nOdds Ratios (Μεταβολή της πιθανότητας για κάθε μονάδα αύξησης):\")\n",
    "print(odds_ratios)\n"
   ]
  },
  {
   "cell_type": "code",
   "execution_count": null,
   "id": "39103721dd8cb063",
   "metadata": {
    "ExecuteTime": {
     "end_time": "2024-05-20T11:38:00.204406Z",
     "start_time": "2024-05-20T11:38:00.197060Z"
    },
    "tags": []
   },
   "outputs": [],
   "source": [
    "# Πρόβλεψη στο σύνολο ελέγχου\n",
    "pred_probs = fit_model.predict(X_test)  # Προβλέψεις πιθανότητας\n",
    "pred_labels = (pred_probs > 0.5).astype(int)  # Δυαδικές προβλέψεις"
   ]
  },
  {
   "cell_type": "markdown",
   "id": "f14f79f3dc0d35b",
   "metadata": {},
   "source": [
    "# ΔΗΜΙΟΥΡΓΙΑ PIPELINE ΓΙΑ ΤΟΝ ΥΠΟΛΟΓΙΣΜΟ ΤΗΣ ΑΚΡΙΒΕΙΑΣ ΤΟΥ ΜΟΝΤΕΛΟΥ"
   ]
  },
  {
   "cell_type": "code",
   "execution_count": null,
   "id": "1484af2bc7be70a2",
   "metadata": {
    "ExecuteTime": {
     "end_time": "2024-05-20T11:38:01.775050Z",
     "start_time": "2024-05-20T11:38:01.755021Z"
    },
    "tags": []
   },
   "outputs": [],
   "source": [
    "# Δημιουργία του pipeline\n",
    "pipeline = Pipeline([  \n",
    "('preprocessing', StandardScaler()), # Προεπεξεργασία δεδομένων με StandardScaler   \n",
    "('feature_selection', SelectKBest(k=6)),  #Δοκιμάζουμε με διαφορετικό αριθμό χαρακτηριστικών για να βρούμε την καλύτερη ακρίβεια. Εδώ έχουμε βάλει 10 χαρακτηριστικά\n",
    " ('model', LogisticRegression()) ]) # Εκτίμηση με λογιστική παλινδρόμηση \n",
    "\n",
    "# Εκπαίδευση του μοντέλου\n",
    "pipeline.fit(X_train, y_train)\n",
    "\n",
    "# Πρόβλεψη σε νέα δεδομένα\n",
    "y_pred = pipeline.predict(X_test)"
   ]
  },
  {
   "cell_type": "code",
   "execution_count": null,
   "id": "98542db43721668c",
   "metadata": {
    "ExecuteTime": {
     "end_time": "2024-05-20T11:38:02.217021Z",
     "start_time": "2024-05-20T11:38:02.207953Z"
    },
    "tags": []
   },
   "outputs": [],
   "source": [
    "#Υπολογισμός της ακρίβειας του μοντέλου με τη χρήση της μεθόδου score\n",
    "accuracy = pipeline.score(X_test, y_test)\n",
    "print(\"Model Accuracy: \", accuracy)"
   ]
  },
  {
   "cell_type": "markdown",
   "id": "9fe20e98-4c05-4ef4-88b6-91b75b77dc22",
   "metadata": {},
   "source": [
    "Linear Regression Analysis\n",
    "\n",
    "Η τιμή του R-squared είναι περίπου 0,054 (5,4%). \n",
    "Αυτό δείχνει ότι το μοντέλο εξηγεί μόνο το 5,4% της διακύμανσης της εξαρτημένης μεταβλητής ((Rainfall). \n",
    "Πρόκειται για μια χαμηλή τιμή, που υποδηλώνει ότι το μοντέλο δεν καταγράφει πολλούς από τους παράγοντες που επηρεάζουν τη βροχόπτωση.\n",
    "\n",
    "Το F-statistic είναι σημαντικό με τιμή 7,233 και p-value < 0,001. Αυτό δείχνει ότι το συνολικό μοντέλο παλινδρόμησης είναι στατιστικά σημαντικό \n",
    "και ότι τουλάχιστον ένας από τους προγνωστικούς παράγοντες σχετίζεται σημαντικά με τη βροχόπτωση ( Aπόρριψη της μηδενικής υπόθεσης H0)\n",
    "\n",
    "Coefficients (Log-odds):\n",
    "Οι coefficients αντιπροσωπεύουν την αναμενόμενη μεταβολή της βροχόπτωσης για μια μεταβολή κατά μία μονάδα στη ανεξάρτητη μεταβλητή\n",
    "κρατώντας όλες τις άλλες μεταβλητές σταθερές\n",
    "\n",
    "- Positive Coefficients: (0,728) και Pressure9am (0,0078) έχουν θετικούς συντελεστές, υποδεικνύοντας ότι η υψηλότερη υγρασία στις 3 μ.μ. και η υψηλότερη πίεση στις 9 π.μ. συνδέονται με αυξημένες βροχοπτώσεις.\n",
    "- Negative Coefficients: Μεταβλητές όπως οι 'Sunshine' (-0,0825) και 'WindGustSpeed' (-0,0329) έχουν αρνητικούς συντελεστές, υποδεικνύοντας ότι η μεγαλύτερη ηλιοφάνεια και η υψηλότερη ταχύτητα ριπής ανέμου συνδέονται με μειωμένη βροχόπτωση.\n",
    "\n",
    "P-values:\n",
    "- Σημαντικές μεταβλητές: Μεταβλητές με τιμές p-values μικρότερες από 0,05 είναι στατιστικά σημαντικές. Για παράδειγμα, η «Humidity3pm» (0,000), η «Pressure9am» (0,001) και η «Sunshine» (0,000) είναι σημαντικοί προγνωστικοί παράγοντες.\n",
    "- Μη σημαντικές μεταβλητές: Οι μεταβλητές με τιμές p-values μεγαλύτερες από 0,05 δεν είναι στατιστικά σημαντικές. Για παράδειγμα, οι μεταβλητές «WindSpeed9am» (0,327) και «WindSpeed3pm» (0,089) δεν είναι σημαντικοί προγνωστικοί παράγοντες\n",
    "                                                                                                                                              \n",
    "Confidence Intervals:\n",
    "Τα διαστήματα εμπιστοσύνης παρέχουν ένα εύρος εντός του οποίου αναμένεται να βρίσκεται ο πραγματικός συντελεστής. Τα στενότερα διαστήματα υποδηλώνουν πιο ακριβείς εκτιμήσεις.\n",
    "- Στενά διαστήματα: Για τηνHumidity3pm (0,055, 0,091) και την «Sunshine» (-0,103, -0,062), υποδηλώνουν ακριβείς εκτιμήσεις.\n",
    "- Ευρεία διαστήματα: Για την WindSpeed9am (-0,041, 0,013), υποδεικνύουν λιγότερο ακριβείς εκτιμήσεις.\n"
   ]
  },
  {
   "cell_type": "markdown",
   "id": "9911cda0-aef7-49ec-a697-93989695d8bc",
   "metadata": {},
   "source": [
    "# Logistic Regression Analysis\n",
    "\n",
    "Pseudo R-squared:\n",
    "Η τιμή του Pseudo R-squared είναι περίπου 0,306. Αυτό υποδηλώνει μια μέτρια προσαρμογή του μοντέλου στα δεδομένα, εξηγώντας περίπου το 30,6% της διακύμανσης στο αν θα βρέξει αύριο.\n",
    "\n",
    "Likelihood Ratio Test:\n",
    "Likelihood Ratio Test έχει τιμή chi-square 1015,18 με p-value < 0,001, υποδεικνύοντας ότι το #συνολικό μοντέλο είναι στατιστικά σημαντικό και καλύτερο από ένα μηδενικό μοντέλο χωρίς προγνωστικούς παράγοντες.\n",
    "\n",
    "Coefficients (Log-odds): \n",
    "Οι συντελεστές στη λογιστική παλινδρόμηση αντιπροσωπεύουν τη μεταβολή των #λογαριθμικών πιθανοτήτων της εξαρτημένης μεταβλητής (RainTomorrow) για μεταβολή κατά #μία μονάδα στον προγνωστικό παράγοντα.\n",
    "- Θετικοί συντελεστές: Μεταβλητές όπως «Humidity3pm» (0,0731) και «Pressure9am» (0,0078) #έχουν θετικούς συντελεστές, υποδεικνύοντας ότι η υψηλότερη υγρασία στις 3 μ.μ. και η #υψηλότερη πίεση στις 9 π.μ. αυξάνουν τις log-odds της αυριανής βροχής.\n",
    "- Αρνητικοί συντελεστές: Μεταβλητές όπως οι «Sunshine» (-0,0830) και «WindGustSpeed» (-#0,0329) έχουν αρνητικούς συντελεστές, υποδεικνύοντας ότι η μεγαλύτερη ηλιοφάνεια και η υψηλότερη ταχύτητα ριπής ανέμου μειώνουν τις λογαριθμικές πιθανότητες βροχής αύριο.\n",
    "Odds Ratios:\n",
    "Οι εκθετικοί συντελεστές (odds ratios) δείχνουν την πολλαπλασιαστική μεταβολή στις #πιθανότητες της εξαρτημένης μεταβλητής για αύξηση κατά μία μονάδα του προβλεπτικού παράγοντα.\n",
    "- Odds Ratios > 1: Για παράδειγμα, το «Humidity3pm» με λόγο πιθανοτήτων περίπου 1,075 #δείχνει ότι κάθε αύξηση της υγρασίας κατά μία μονάδα στις 3 μ.μ. αυξάνει τις πιθανότητες βροχής αύριο κατά 7,5%.\n",
    "- Odds Ratios < 1: Για παράδειγμα, η «Sunshine» με λόγο πιθανοτήτων περίπου 0,920 #υποδηλώνει ότι κάθε αύξηση της ηλιοφάνειας κατά μία μονάδα μειώνει τις πιθανότητες βροχής αύριο κατά 8%.\n",
    "Τιμές P-values:\n",
    "Οι τιμές P-values στη λογιστική παλινδρόμηση ελέγχουν τη μηδενική υπόθεση ότι ένας #συντελεστής είναι μηδέν (καμία επίδραση).\n",
    "- Σημαντικές μεταβλητές: Τιμές P-values μικρότερες από 0,05 υποδηλώνουν ότι ο #προγνωστικός παράγοντας είναι στατιστικά σημαντικός. Για παράδειγμα, οι παράγοντες  «Humidity3pm» (0,000), «Pressure9am» (0,000) και «Sunshine» (0,000) είναι σημαντικοί #προγνωστικοί παράγοντες.\n",
    "- Μη σημαντικές μεταβλητές: Τιμές P μεγαλύτερες από 0,05 υποδηλώνουν ότι ο προγνωστικός #παράγοντας δεν είναι στατιστικά σημαντικός. Για παράδειγμα, οι μεταβλητές «WindSpeed9am»  (0,329) και «WindSpeed3pm» (0,089) δεν είναι σημαντικοί προγνωστικοί παράγοντες.\n",
    "Confidence Intervals:\n",
    "Τα διαστήματα εμπιστοσύνης για τις αναλογίες αποδόσεων παρέχουν ένα εύρος εντός του #οποίου αναμένεται να βρίσκεται η πραγματική αναλογία αποδόσεων. Τα στενά διαστήματα #υποδηλώνουν πιο ακριβείς εκτιμήσεις.\n",
    "- Στενά διαστήματα: Για την «Humidity3pm» (1,058, 1,091) και την «Sunshine» (0,902, 0,938), #που υποδηλώνουν ακριβείς εκτιμήσεις.\n",
    "- Ευρεία διαστήματα: «WindSpeed9am»  (0,960, 1,014), υποδεικνύει λιγότερο ακριβείς εκτιμήσεις.\n"
   ]
  },
  {
   "cell_type": "code",
   "execution_count": null,
   "id": "3cd8023b-5c1d-4045-ba87-3cb40b986501",
   "metadata": {},
   "outputs": [],
   "source": []
  },
  {
   "cell_type": "code",
   "execution_count": null,
   "id": "8a12a764-e81a-478c-8ac8-82e330e06750",
   "metadata": {},
   "outputs": [],
   "source": []
  }
 ],
 "metadata": {
  "kernelspec": {
   "display_name": "Python 3 (ipykernel)",
   "language": "python",
   "name": "python3"
  },
  "language_info": {
   "codemirror_mode": {
    "name": "ipython",
    "version": 3
   },
   "file_extension": ".py",
   "mimetype": "text/x-python",
   "name": "python",
   "nbconvert_exporter": "python",
   "pygments_lexer": "ipython3",
   "version": "3.11.8"
  }
 },
 "nbformat": 4,
 "nbformat_minor": 5
}
