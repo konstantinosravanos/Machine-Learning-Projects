{
 "cells": [
  {
   "cell_type": "markdown",
   "id": "6079b53302308029",
   "metadata": {},
   "source": [
    "# ΚΑΘΟΡΙΣΜΟΣ ΤΟΥ DIRECTORY ΟΠΟΥ ΒΡΙΣΚΕΤΑΙ ΤΟ ΑΡΧΕΙΟ"
   ]
  },
  {
   "cell_type": "code",
   "execution_count": null,
   "id": "e614c4cff89aec06",
   "metadata": {
    "tags": []
   },
   "outputs": [],
   "source": [
    "pwd #Καθορίζει το path file του αρχείου που εκτελείται"
   ]
  },
  {
   "cell_type": "markdown",
   "id": "d04fb6d97ce4cd45",
   "metadata": {},
   "source": [
    "# ΕΙΣΑΓΩΓΗ ΤΩΝ ΑΠΑΡΑΙΤΡΗΤΩΝ ΒΙΒΛΙΟΘΗΚΩΝ ΓΙΑ ΤΗΝ ΕΚΤΕΛΕΣΗ ΤΟΥ ΚΩΔΙΚΑ"
   ]
  },
  {
   "cell_type": "code",
   "execution_count": null,
   "id": "b4c58e235f13120f",
   "metadata": {
    "tags": []
   },
   "outputs": [],
   "source": [
    "#Βιβλιοθήκες για την εισαγωγή και επεξεργασία των δεδομένων\n",
    "import pandas as pd\n",
    "import numpy as np\n",
    "import warnings\n",
    "\n",
    "\n",
    "\n",
    "#Βιβλιοθήκες για την εκτύπωση των διαγραμμάτων\n",
    "import matplotlib.pyplot as plt\n",
    "from mpl_toolkits.mplot3d import Axes3D\n",
    "import matplotlib.cm as cm\n",
    "import seaborn as sns\n",
    "\n",
    "#Βιβλιοθήκες για την εκτύπωση διαδραστικών διαγραμμάτων\n",
    "import plotly.express as px\n",
    "from plotly.subplots import make_subplots\n",
    "import plotly.graph_objects as go\n",
    "\n",
    "#Βιβλιοθήκη scikit learn για την εκπαίδευση του μοντέλου\n",
    "from sklearn.cluster import KMeans\n",
    "from sklearn.preprocessing import StandardScaler\n",
    "\n",
    "#Βιβλιοθήκη silhouette metric για την εκτίμηση της ποιότητας του μοντέλου\n",
    "from sklearn.metrics import silhouette_samples, silhouette_score"
   ]
  },
  {
   "cell_type": "markdown",
   "id": "6fef0cc6023ac78f",
   "metadata": {},
   "source": [
    "# ΚΑΘΟΡΙΣΜΟΣ ΑΚΡΙΒΕΙΑΣ ΤΟΥ ΜΟΝΤΕΛΟΥ\n"
   ]
  },
  {
   "cell_type": "code",
   "execution_count": null,
   "id": "92c9dbf0b7edfdfb",
   "metadata": {
    "tags": []
   },
   "outputs": [],
   "source": [
    "#Καθορισμός ακριβείας του μοντέλου\n",
    "pd.set_option(\"display.precision\", 2)"
   ]
  },
  {
   "cell_type": "markdown",
   "id": "a49a075fc4f111b8",
   "metadata": {},
   "source": [
    "\n",
    "# ΕΙΣΑΓΩΓΗ ΚΑΙ ΕΠΕΞΕΡΓΑΣΙΑ ΤΟΥ ΑΡΧΕΙΟΥ ΠΟΥ ΕΙΝΑΙ ΑΠΑΡΑΙΤΗΤΟ ΓΙΑ ΤΗΝ ΕΚΤΕΛΕΣΗ ΤΟΥ ΑΛΓΟΡΙΘΜΟΥ\n"
   ]
  },
  {
   "cell_type": "code",
   "execution_count": null,
   "id": "8cbd1d58cd11aa9b",
   "metadata": {
    "tags": []
   },
   "outputs": [],
   "source": [
    "#Αναγνώριση του αρχείου και εισαγωγή του στο πρόγραμμα\n",
    "df = pd.read_csv('data/Wholesale customers data.csv')\n",
    "\n",
    "#Δημιουργία DataFrame\n",
    "df.head() \n",
    "\n",
    "#Δίνει την εκτύπωση των πέντε πρώτων στηλών των δεδομένων\n",
    "print(df.head())"
   ]
  },
  {
   "cell_type": "markdown",
   "id": "5d3c4a64a13a764a",
   "metadata": {},
   "source": [
    "# ΣΥΝΟΠΤΙΚΗ ΠΑΡΟΥΣΙΑΣΗ ΤΩΝ ΔΕΔΟΜΕΝΩΝ ΠΡΙΝ ΑΠΟ ΤΗΝ ΑΦΑΙΡΕΣΗ ΤΟΝ ΤΙΜΩΝ ΠΟΥ ΤΕΙΝΟΥΝ ΣΤΟ ΑΠΕΙΡΟ ΚΑΙ ΤΩΝ ΤΙΜΩΝ NaN\n"
   ]
  },
  {
   "cell_type": "code",
   "execution_count": null,
   "id": "91ff35de5dcaa821",
   "metadata": {
    "tags": []
   },
   "outputs": [],
   "source": [
    "#Επιστρέφει το σύνολο των γραμμών του αρχείου στο οποίο βρίσκονται τα δεδομένα\n",
    "len(df)"
   ]
  },
  {
   "cell_type": "code",
   "execution_count": null,
   "id": "3dbb4c9f2fb4be47",
   "metadata": {
    "tags": []
   },
   "outputs": [],
   "source": [
    "#Επιστρέφει τα ονόματα των στηλών του αρχείου στο οποίο βρίσκονται τα δεδομένα\n",
    "df.columns"
   ]
  },
  {
   "cell_type": "code",
   "execution_count": null,
   "id": "4bb2c83f30d787d",
   "metadata": {
    "tags": []
   },
   "outputs": [],
   "source": [
    " #Δίνει τον τύπο των δεδομένων που περιέχονται στις στήλες του αρχείου. To dataset αποτελείται από 7 στήλες οι οποίες περιέχουν αριθμητικά δεδομένα  \n",
    "df.dtypes\n"
   ]
  },
  {
   "cell_type": "code",
   "execution_count": null,
   "id": "d0d648fc7b354cea",
   "metadata": {
    "tags": []
   },
   "outputs": [],
   "source": [
    "# Εκτυπώνει το όνομα των στηλών και τον τύπο των δεδομένων που περιέχουν\n",
    "df.info()"
   ]
  },
  {
   "cell_type": "code",
   "execution_count": null,
   "id": "9152fa75cac71292",
   "metadata": {
    "tags": []
   },
   "outputs": [],
   "source": [
    "# Υπολογισμός του πίνακα συσχέτισης για όλα τα χαρακτηριστικά\n",
    "correlation_matrix = df.corr()\n",
    "\n",
    "# Σχεδίαση του πίνακα συσχέτισης\n",
    "plt.figure(figsize=(12, 10))\n",
    "sns.heatmap(correlation_matrix, annot=True, cmap='coolwarm', fmt='.2f', linewidths=0.5)\n",
    "plt.title('Πίνακας Συσχέτισης Δεδομένων Χονδρικών Πελατών')\n",
    "plt.show()"
   ]
  },
  {
   "cell_type": "markdown",
   "id": "a5b276395be532e5",
   "metadata": {},
   "source": [
    "# ΕΠΕΞΕΡΓΑΣΙΑ ΤΟΥ DATASET ΚΑΙ ΕΚΑΘΑΡΙΣΜΟΣ ΤΩΝ ΤΙΜΩΝ ΠΟΥ ΤΕΙΝΟΥΝ ΣΤΟ ΑΠΕΙΡΟ ΚΑΙ ΤΩΝ ΤΙΜΩΝ NaN\n"
   ]
  },
  {
   "cell_type": "code",
   "execution_count": null,
   "id": "5e4bf4269c529003",
   "metadata": {
    "tags": []
   },
   "outputs": [],
   "source": [
    "# Ελέγχει αν υπάρχουν τιμές στο dataset που τείνουν στο άπειρο\n",
    "if np.any(np.isinf(df)):\n",
    "    print(\"Data contains infinite values. Replacing them with NaN.\")\n",
    "    df.replace([np.inf, -np.inf], np.nan, inplace=True)"
   ]
  },
  {
   "cell_type": "code",
   "execution_count": null,
   "id": "cbc46fa8e38365e9",
   "metadata": {
    "tags": []
   },
   "outputs": [],
   "source": [
    "# Ελέγχει αν υπάρχουν τιμές NaN στο dataset. \n",
    "if df.isnull().values.any():\n",
    "    print(\"Data contains NaN values. Please handle missing data before proceeding.\")\n",
    "    df.dropna(inplace=True)\n",
    "    # Print original DataFrame\n",
    "print(\"Original DataFrame:\")\n",
    "print(df)"
   ]
  },
  {
   "cell_type": "markdown",
   "id": "346609eefee64988",
   "metadata": {},
   "source": [
    "# ΠΕΡΙΓΡΑΦΙΚΗ ΣΤΑΤΙΣΤΙΚΗ ΑΝΑΛΥΣΗ ΤΩΝ ΔΕΔΟΜΕΝΩΝ"
   ]
  },
  {
   "cell_type": "code",
   "execution_count": null,
   "id": "6b71a682ccc7ca65",
   "metadata": {
    "tags": []
   },
   "outputs": [],
   "source": [
    "# Εκτυπώνει τα περιγραφικά στατιστικά των αριθμητικών μεταβλητών\n",
    "df.describe()"
   ]
  },
  {
   "cell_type": "code",
   "execution_count": null,
   "id": "772da3f2baaf8a95",
   "metadata": {
    "tags": []
   },
   "outputs": [],
   "source": [
    "#Μετρά το σύνολο των παρατηρήσεων σε μια συγκεκριμένη στήλη του dataset. Το ίδιο μπορεί να γίνει και για όλες τις άλλες στήλες.\n",
    "num_observations = df['Milk'].count()\n",
    "print(\"Number of observations in 'Milk' column:\", num_observations)"
   ]
  },
  {
   "cell_type": "markdown",
   "id": "95f733e71c5d8c15",
   "metadata": {},
   "source": [
    "# EXPLORATORY DATA ANALYSIS"
   ]
  },
  {
   "cell_type": "markdown",
   "id": "ba4fac719cfcaac1",
   "metadata": {},
   "source": [
    "Ιστογράμματα"
   ]
  },
  {
   "cell_type": "code",
   "execution_count": null,
   "id": "62663e45a8d2db4f",
   "metadata": {
    "tags": []
   },
   "outputs": [],
   "source": [
    "# Δημιουργία ιστογραμμάτων για όλες τις μεταβλητές\n",
    "for column in df.columns:\n",
    "    plt.figure(figsize=(10, 6))\n",
    "    plt.hist(df[column], bins=30, edgecolor='k', alpha=0.7)\n",
    "    plt.title(f'Ιστόγραμμα της {column}')\n",
    "    plt.xlabel(column)\n",
    "    plt.ylabel('Συχνότητα')\n",
    "    plt.grid(True)\n",
    "    plt.show()"
   ]
  },
  {
   "cell_type": "markdown",
   "id": "7b7fe840263e9cd7",
   "metadata": {},
   "source": [
    "Διαγράμματα διασποράς με τη βιβλιοθήκη matplotlib"
   ]
  },
  {
   "cell_type": "code",
   "execution_count": null,
   "id": "a985912fb0689a66",
   "metadata": {
    "tags": []
   },
   "outputs": [],
   "source": [
    "#Χρησιμοποιείται αυτή η εντολή για να μη δημιουργούνται ξεχωριστές εντολές για κάθε διάγραμμα διασποράς.\n",
    "variables = df.columns\n",
    "\n",
    "#Δημιουργία διαγραμμάτων διασποράς ανά ζεύγος μεταβλητών\n",
    "for i in range(len(variables)):\n",
    "    for j in range(i+1, len(variables)):\n",
    "        plt.scatter(df[variables[i]], df[variables[j]], color='yellow')\n",
    "\n",
    "    #Προσαρμογή των ονομάτων των αξόνων\n",
    "        plt.xlabel(variables[i])\n",
    "        plt.ylabel(variables[j])\n",
    "\n",
    "        plt.show()\n",
    "        \n",
    "        "
   ]
  },
  {
   "cell_type": "markdown",
   "id": "468f8a916b5366a0",
   "metadata": {},
   "source": [
    "Διαγράμματα διασποράς με τη βιβλιοθήκη seaborn"
   ]
  },
  {
   "cell_type": "code",
   "execution_count": null,
   "id": "7769931bebed75de",
   "metadata": {
    "tags": []
   },
   "outputs": [],
   "source": [
    "#Χρησιμοποιείται αυτή η εντολή για να μη δημιουργούνται ξεχωριστές εντολές για κάθε διάγραμμα διασποράς.\n",
    "variables = df.columns\n",
    "\n",
    "#Δημιουργία διαγραμμάτων διασποράς ανά ζεύγος μεταβλητών\n",
    "for i in range(len(variables)):\n",
    "    for j in range(i+1, len(variables)):\n",
    "        sns.scatterplot(data=df, x=variables[i], y=variables[j])\n",
    "\n",
    "        #Προσαρμογή των ονομάτων των αξόνων\n",
    "        plt.xlabel(variables[i])\n",
    "        plt.ylabel(variables[j])\n",
    "\n",
    "        plt.show()"
   ]
  },
  {
   "cell_type": "code",
   "execution_count": null,
   "id": "71a0c82318747c1a",
   "metadata": {
    "tags": []
   },
   "outputs": [],
   "source": [
    "# Δημιουργία διαγραμμάτων διασποράς χωρίς τα ιστογράμματα\n",
    "sns.set(style=\"ticks\")\n",
    "sns.pairplot(df, diag_kind=\"none\")\n",
    "plt.show()\n",
    "\n",
    "plt.savefig('plot.png')"
   ]
  },
  {
   "cell_type": "markdown",
   "id": "d316177c89c4484e",
   "metadata": {},
   "source": [
    "Διαγράμματα διασποράς με τη βιβλιοθήκη plotly "
   ]
  },
  {
   "cell_type": "code",
   "execution_count": null,
   "id": "74ddc93a9447af59",
   "metadata": {
    "tags": []
   },
   "outputs": [],
   "source": [
    "#Χρησιμοποιείται αυτή η εντολή για να μη δημιουργούνται ξεχωριστές εντολές για κάθε διάγραμμα διασποράς.\n",
    "variables = df.columns\n",
    "\n",
    "#Δημιουργία διαγραμμάτων διασποράς ανά ζεύγος μεταβλητών\n",
    "for i in range(len(variables)):\n",
    "    for j in range(i+1, len(variables)):\n",
    "        fig = px.scatter(df, x=variables[i], y=variables[j], title=f\"Correlation between {variables[i]} and {variables[j]}\")\n",
    "        fig.show()"
   ]
  },
  {
   "cell_type": "markdown",
   "id": "e4da87c5-ef9f-41ac-92ad-543371436f71",
   "metadata": {
    "tags": []
   },
   "source": [
    "Ανάλυση Σημαντικών Συσχετίσεων\n",
    " \n",
    "Θετικές Συσχετίσεις:\n",
    "1. Γάλα και Παντοπωλείο:\n",
    "-Τιμή Συσχέτισης: 0.73\n",
    "-Σχέση: Ισχυρή θετική συσχέτιση.\n",
    "-Ερμηνεία: Οι πελάτες που ξοδεύουν περισσότερο σε Γάλα τείνουν να ξοδεύουν περισσότερο και σε είδη Παντοπωλείου. Αυτό υποδηλώνει ότι αυτές οι δύο κατηγορίες συχνά αγοράζονται μαζί.\n",
    " \n",
    "2. Γάλα και Απορρυπαντικά_Χαρτιά:\n",
    "-Τιμή Συσχέτισης: 0.72\n",
    "-Σχέση: Ισχυρή θετική συσχέτιση.\n",
    "-Ερμηνεία: Η υψηλότερη δαπάνη σε Γάλα συσχετίζεται με την υψηλότερη δαπάνη σε Απορρυπαντικά και Χαρτικά. Αυτό δείχνει ότι αυτά τα αντικείμενα μπορεί να αποτελούν μέρος των κανονικών αγορών νοικοκυριού.\n",
    " \n",
    "3. Παντοπωλείο και Απορρυπαντικά_Χαρτιά:\n",
    "-Τιμή Συσχέτισης: 0.92\n",
    "-Σχέση: Πολύ ισχυρή θετική συσχέτιση.\n",
    "-Ερμηνεία: Τα πρότυπα δαπανών για τα είδη Παντοπωλείου και Απορρυπαντικά_Χαρτιά είναι πολύ στενά συνδεδεμένα. Οι πελάτες που αγοράζουν περισσότερα είδη παντοπωλείου τείνουν επίσης να αγοράζουν περισσότερα απορρυπαντικά και χαρτικά, πιθανώς υποδηλώνοντας αγορές χονδρικής.\n",
    "\n",
    "4. Παντοπωλείο και Ντελικατέσεν:\n",
    "-Τιμή Συσχέτισης: 0.60\n",
    "-Σχέση: Μέτρια θετική συσχέτιση.\n",
    "-Ερμηνεία: Υπάρχει μια μέτρια σχέση μεταξύ των δαπανών για τα είδη Παντοπωλείου και τα προϊόντα Ντελικατέσεν. Οι πελάτες που ξοδεύουν περισσότερο σε είδη παντοπωλείου τείνουν επίσης να ξοδεύουν περισσότερο σε προϊόντα ντελικατέσεν.\n",
    " \n",
    "Αρνητικές Συσχετίσεις:\n",
    "Δεν βρέθηκαν ισχυρές αρνητικές ή στατιστικά σημαντικές συσχετίσεις μεταξύ των μεταβλητών σε αυτό το σύνολο δεδομένων.\n",
    " \n",
    "Σύνοψη:\n",
    "-Προϊόντα Νοικοκυριού: Υπάρχει σαφής σχέση μεταξύ των δαπανών σε Γάλα, Παντοπωλείο και Απορρυπαντικά_Χαρτιά, υποδηλώνοντας ότι αυτά τα αντικείμενα αγοράζονται συχνά μαζί.\n",
    "-Προϊόντα Ντελικατέσεν: Οι δαπάνες σε είδη Παντοπωλείου σχετίζονται μέτρια με τις δαπάνες σε προϊόντα Ντελικατέσεν, δείχνοντας ότι οι πελάτες που αγοράζουν περισσότερα είδη παντοπωλείου τείνουν επίσης να αγοράζουν προϊόντα ντελικατέσεν.\n",
    " \n",
    "Αυτή η ανάλυση αναδεικνύει τις διασυνδεδεμένες συμπεριφορές αγορών των χονδρικών πελατών, ιδιαίτερα για προϊόντα νοικοκυριού και παντοπωλείου. Η κατανόηση αυτών των σχέσεων μπορεί να βοηθήσει τις επιχειρήσεις στη βελτιστοποίηση της διαχείρισης αποθεμάτων, στις στρατηγικές μάρκετινγκ και στην τμηματοποίηση πελατών.\n"
   ]
  },
  {
   "cell_type": "markdown",
   "id": "cc46a3cd639db256",
   "metadata": {},
   "source": [
    "# Περιγραφικά στατιστικά του μέσου και του διάμεσου των μεταβλητών ομαδοποιημένα με βάση μια συγκεκριμενη μεταβλητη αναφορας."
   ]
  },
  {
   "cell_type": "code",
   "execution_count": null,
   "id": "e43d08b8de230784",
   "metadata": {
    "tags": []
   },
   "outputs": [],
   "source": [
    "# Υπολογισμός περιγραφικών στατιστικών του μέσου όρου και της διάμεσου ομαδοποιημένα με βάση το region\n",
    "grouped = df.groupby('Region').agg(['mean', 'median'])\n",
    "\n",
    "# Εμφάνιση των αποτελεσμάτων\n",
    "print(grouped)\n",
    "\n",
    "# Μέσος και Διάμεσος:\n",
    "#Για κάθε περιοχή, το σενάριο θα εχουμε τις τιμές του μέσου όρου και της διάμεσου των μεταβλητών (Fresh, Milk, Grocery, Frozen, Detergents_Paper, Delicassen).\n",
    "#Ομαδοποιημένα κατά Περιοχή:\n",
    "#Τα στατιστικά στοιχεία είναι ομαδοποιημένα με βάση τη στήλη Region, επιτρέποντάς σας να συγκρίνουμε την κεντρική τάση των μεταβλητών μεταξύ διαφορετικών περιοχών. Δηλαδη ποσο γαλα, κατεψυγμενα προιντα κτλπ. καταναλωθηκαν στιςς περιοχες που μελεταει το δειγμα"
   ]
  },
  {
   "cell_type": "code",
   "execution_count": null,
   "id": "e077a62e-b273-4868-9ce7-b47105077f6c",
   "metadata": {
    "tags": []
   },
   "outputs": [],
   "source": [
    "# Αντιστοιχα πια ειναι η μεση καταναλωση των υπολοιπων προιντων για αγορες που περιλαμβανουν γαλα, οπως και ποιος ειναι ο μεσος ορος της καθε περιοχης σε αγορες που περιλαμβανουν γαλα.\n",
    "# Αντιστοιχα θα δουμε ποιο channel προτιματε περισσοτερο για την αγορα γαλατος.\n",
    "\n",
    "# Υπολογισμός περιγραφικών στατιστικών του μέσου όρου και της διάμεσου ομαδοποιημένα με βάση το region\n",
    "grouped = df.groupby('Milk').agg(['mean', 'median'])\n",
    "\n",
    "# Εμφάνιση των αποτελεσμάτων\n",
    "print(grouped)\n",
    "\n",
    "# Αντιστοιχη λογικη ακολουθουμε και για τις υπολοιπες μεταβλητες"
   ]
  },
  {
   "cell_type": "code",
   "execution_count": null,
   "id": "13f2d038fc5c3b40",
   "metadata": {
    "tags": []
   },
   "outputs": [],
   "source": [
    "#Η εντολή εξαλείφει οποιοδήποτε warning που εμφανίζεται κατά την εκτέλεση του προγράμματος \n",
    "warnings.filterwarnings('ignore', category=FutureWarning)\n",
    "\n",
    "#Δίνει όλα τα διαγράμματα διασποράς για τα ζεύγη μεταβλητών που έχουν το region ή το milk ως κριτηριο ομαδοποιησης\n",
    "sns.pairplot(data=df, hue='Region', palette=['Blue', 'Red', 'Green','Yellow', 'Purple', 'Orange', 'Pink', 'Brown']);\n",
    "\n",
    "# Εναλλακτικά\n",
    "sns.pairplot(data=df, hue='Milk', palette=['Blue', 'Red', 'Green', 'Yellow', 'Purple', 'Orange', 'Pink', 'Brown']);"
   ]
  },
  {
   "cell_type": "code",
   "execution_count": null,
   "id": "af50bea22031aa31",
   "metadata": {
    "tags": []
   },
   "outputs": [],
   "source": [
    "#Δημιουργία ενός διαγράμματος 3D scatter με τη βιβλιοθήκη plotly (Milk, Region, Grocery)\n",
    "fig = go.Figure(data=[go.Scatter3d(\n",
    "    x=df['Milk'], #Ορίζει τον άξονα x με τις τιμές της στήλης 'Milk'\n",
    "    y=df['Region'], #Ορίζει τον άξονα y με τις τιμές της στήλης 'Region'\n",
    "    z=df['Grocery'], #Ορίζει τον άξονα z με τις τιμές της στήλης 'Grocery'\n",
    "   \n",
    "    mode='markers', #Ορίζει τον τρόπο παρουσίασης των δεδομένων ως σημεία\n",
    "    marker=dict(\n",
    "        size=12, #Ορίζει το μέγεθος των σημείων\n",
    "        color=df['Region'], #Ορίζει το χρώμα των σημείων με βάση τις τιμές της στήλης 'Region'\n",
    "        colorscale='Viridis', #Ορίζει το χρωματικό εύρος των σημείων\n",
    "        opacity=0.9 #Ορίζει τη διαφάνεια των σημείων\n",
    "    )\n",
    ")])\n",
    "\n",
    "#Ρύθμιση της διάταξης του διαγράμματος\n",
    "fig.update_layout(margin=dict(l=0, r=0, b=0, t=0))\n",
    "\n",
    "#Εμφάνιση του διαγράμματος\n",
    "fig.show()"
   ]
  },
  {
   "cell_type": "markdown",
   "id": "f3df686589b23817",
   "metadata": {},
   "source": [
    "# K-Means Clustering"
   ]
  },
  {
   "cell_type": "code",
   "execution_count": null,
   "id": "b48087a731f9e77e",
   "metadata": {
    "tags": []
   },
   "outputs": [],
   "source": [
    "# Δημιουργεί τον πίνακα X με τις μεταβλητές που θα χρησιμοποιηθούν για τον αλγόριθμο K-Means\n",
    "X = df[['Channel', 'Region', 'Fresh', 'Milk', 'Grocery', 'Frozen', 'Detergents_Paper', 'Delicassen']]"
   ]
  },
  {
   "cell_type": "code",
   "execution_count": null,
   "id": "897f1f9948bd079",
   "metadata": {
    "tags": []
   },
   "outputs": [],
   "source": [
    "# Εμφανίζει τις πρώτες 3 γραμμές του πίνακα X\n",
    "X.head(3)"
   ]
  },
  {
   "cell_type": "code",
   "execution_count": null,
   "id": "3d9653f609a76117",
   "metadata": {
    "tags": []
   },
   "outputs": [],
   "source": [
    "# Εκτυπώνει τον πίνακα X\n",
    "model = KMeans(n_clusters=4, random_state=42)"
   ]
  },
  {
   "cell_type": "code",
   "execution_count": null,
   "id": "b96b86eef67e494e",
   "metadata": {
    "tags": []
   },
   "outputs": [],
   "source": [
    "# Εμφανίζει το μοντέλο που δημιουργήθηκε\n",
    "model"
   ]
  },
  {
   "cell_type": "code",
   "execution_count": null,
   "id": "c31bf00a89703b04",
   "metadata": {
    "tags": []
   },
   "outputs": [],
   "source": [
    "#Εκπαίδευση του μοντέλου\n",
    "model.fit(X)\n",
    "y_pred = model.predict(X)"
   ]
  },
  {
   "cell_type": "code",
   "execution_count": null,
   "id": "5bef2cae-f8cd-4c84-870a-6954db9f161b",
   "metadata": {
    "tags": []
   },
   "outputs": [],
   "source": [
    "fitted_kmeans= model.fit(X)"
   ]
  },
  {
   "cell_type": "code",
   "execution_count": null,
   "id": "220ced2216759835",
   "metadata": {
    "tags": []
   },
   "outputs": [],
   "source": [
    "# Αυτή η εντολή χρησιμοποιεί το εκπαιδευμένο μοντέλο K-Means για να προβλέψει την ομάδα στην οποία ανήκει κάθε δείγμα στον πίνακα X\n",
    "y_pred = fitted_kmeans.predict(X)"
   ]
  },
  {
   "cell_type": "code",
   "execution_count": null,
   "id": "5e7ba64ab6387614",
   "metadata": {
    "tags": []
   },
   "outputs": [],
   "source": [
    "# Δημιουργεί ένα μοντέλο K-Means με 4 συστάδες, το εκπαιδεύει στα δεδομένα που περιέχονται στον πίνακα X και ταυτόχρονα προβλέπει τη συστάδα στην οποία ανήκει κάθε δείγμα. Το αποτέλεσμα της πρόβλεψης αποθηκεύεται στη μεταβλητή y_pred.\n",
    "y_pred = KMeans(n_clusters=4).fit_predict(X)"
   ]
  },
  {
   "cell_type": "code",
   "execution_count": null,
   "id": "64d7e3fe61d36cd0",
   "metadata": {
    "tags": []
   },
   "outputs": [],
   "source": [
    "# Εκτυπώνει τον πίνακα y_pred\n",
    "y_pred"
   ]
  },
  {
   "cell_type": "code",
   "execution_count": null,
   "id": "b988c694ee22faab",
   "metadata": {
    "tags": []
   },
   "outputs": [],
   "source": [
    "#Ένταξη μιας καινούριας παρατήρησης στο μοντέλο\n",
    "new_observation = pd.DataFrame([[1, 3, 2176, 810, 3456, 120, 8763, 9]], \n",
    "                               columns=['Channel', 'Region', 'Fresh', 'Milk', 'Grocery', 'Frozen', 'Detergents_Paper', 'Delicassen'])\n",
    "\n",
    "#Εισαγωγή της νέας παρατήρησης στο μοντέλο\n",
    "new_observation_pred = fitted_kmeans.predict(new_observation)\n",
    "\n",
    "#Μετατροπή της νέας παρατήρησης σε DataFrame\n",
    "new_observation_as_a_df = pd.DataFrame(\n",
    "    new_observation, columns=['Channel', 'Region', 'Fresh', 'Milk', 'Grocery', 'Frozen', 'Detergents_Paper', 'Delicassen'])\n",
    "\n",
    "# Εισαγωγή της νέας παρατήρησης στο αρχικό DataFrame\n",
    "df = pd.concat([df, new_observation_as_a_df], ignore_index=True)\n",
    "\n",
    "#Εμφάνιση του cluster στο οποίο ανήκει η νέα παρατήρηση\n",
    "new_observation_pred"
   ]
  },
  {
   "cell_type": "code",
   "execution_count": null,
   "id": "3d9aa3a9c78a3de1",
   "metadata": {
    "tags": []
   },
   "outputs": [],
   "source": [
    "#Δημιουργία μιας νέας στήλης 'cluster' στον πίνακα df που περιέχει τις προβλέψεις του μοντέλου K-Means\n",
    "df[\"cluster\"] = pd.DataFrame(y_pred, columns=[\"cluster\"])\n",
    "\n",
    "#Θέτει τη στήλη 'cluster' ως κατηγορική\n",
    "df[\"cluster\"] = df[\"cluster\"].astype('category')\n",
    "\n",
    "#Εκτυπώνει τις πρώτες 10 γραμμές του πίνακα df\n",
    "df.head(10)"
   ]
  },
  {
   "cell_type": "code",
   "execution_count": null,
   "id": "3c6ade6a4ec6bcef",
   "metadata": {
    "tags": []
   },
   "outputs": [],
   "source": [
    "#Εμφανίζει τον αριθμό των παρατηρήσεων που ανήκουν σε κάθε συστάδα\n",
    "print(df.groupby('cluster', observed=True).size())"
   ]
  },
  {
   "cell_type": "markdown",
   "id": "8d57e5a706b9b258",
   "metadata": {},
   "source": [
    "#  Διαγράμματα της μεθόδου K-Means "
   ]
  },
  {
   "cell_type": "code",
   "execution_count": null,
   "id": "d5262aec9995f925",
   "metadata": {
    "tags": []
   },
   "outputs": [],
   "source": [
    "# Εξαγωγή των κεντροειδών από το μοντέλο K-Means\n",
    "centroids = model.cluster_centers_\n",
    "\n",
    "# Σχεδιασμός των clusters με τα κεντροειδή\n",
    "plt.figure(figsize=(10, 6))\n",
    "\n",
    "# Χρησιμοποιούμε τις πρώτες δύο διαστάσεις (για παράδειγμα 'Milk' και 'Grocery') για την απεικόνιση\n",
    "sns.scatterplot(data=df, x='Milk', y='Grocery', hue='cluster', palette='viridis', style='cluster', markers=True)\n",
    "\n",
    "# Προσθήκη των κεντροειδών στο διάγραμμα\n",
    "plt.scatter(centroids[:, df.columns.get_loc('Milk')], centroids[:, df.columns.get_loc('Grocery')], \n",
    "            s=300, c='red', label='Centroids', marker='X')\n",
    "\n",
    "plt.title('Clusters and their Centroids')\n",
    "plt.xlabel('Milk')\n",
    "plt.ylabel('Grocery')\n",
    "plt.legend()\n",
    "plt.show()"
   ]
  },
  {
   "cell_type": "code",
   "execution_count": null,
   "id": "72db50d07e91672b",
   "metadata": {
    "tags": []
   },
   "outputs": [],
   "source": [
    "#Τρισδιάστατο διάγραμμα με τα clusters\n",
    "# Δημιουργία του 3D scatter plot\n",
    "three_dim_clusters = px.scatter_3d(\n",
    "    df, \n",
    "    x='Milk', \n",
    "    y='Grocery', \n",
    "    z='Fresh', \n",
    "    color='cluster', \n",
    "    title='3D Scatter Plot of Clusters',\n",
    "    labels={'cluster': 'Cluster'}\n",
    ")\n",
    "\n",
    "# Εμφάνιση του διαγράμματος\n",
    "three_dim_clusters.show()"
   ]
  },
  {
   "cell_type": "markdown",
   "id": "9e1261783c14ec01",
   "metadata": {},
   "source": [
    "# Η μέθοδος Elbow"
   ]
  },
  {
   "cell_type": "code",
   "execution_count": null,
   "id": "593fd8efefaef3ea",
   "metadata": {
    "tags": []
   },
   "outputs": [],
   "source": [
    "# Υπολογισμός του WCSS για διαφορετικούς αριθμούς clusters\n",
    "wcss = []\n",
    "for i in range(1, 11):\n",
    "    kmeans = KMeans(n_clusters=i, random_state=42)\n",
    "    kmeans.fit(X)\n",
    "    wcss.append(kmeans.inertia_)\n",
    "\n",
    "# Σχεδιασμός του Elbow plot\n",
    "plt.figure(figsize=(10, 6))\n",
    "plt.plot(range(1, 11), wcss, marker='o')\n",
    "plt.title('Elbow Method For Optimal Number of Clusters')\n",
    "plt.xlabel('Number of Clusters')\n",
    "plt.ylabel('WCSS')\n",
    "plt.show()\n",
    "\n",
    "# Εύρεση του βέλτιστου αριθμού clusters χρησιμοποιώντας την δευτερη παραγωγο\n",
    "# Υπολογισμός του δεύτερου παραγώγου (2η παράγωγος) της καμπύλης WCSS για την εύρεση του σημείου καμπής (elbow)\n",
    "wcss_diff1 = np.diff(wcss)\n",
    "wcss_diff2 = np.diff(wcss_diff1)\n",
    "\n",
    "# Εύρεση του βέλτιστου αριθμού clusters ως το σημείο καμπής της καμπύλης WCSS\n",
    "optimal_k = np.argmax(wcss_diff2) + 2  # Η δεύτερη παράγωγος βοηθά στον εντοπισμό του σημείου μέγιστης καμπυλότητας στο διάγραμμα, το οποίο αντιστοιχεί στον «αγκώνα».\n",
    "\n",
    "# Εμφάνιση του βέλτιστου αριθμού clusters\n",
    "print(f'Ο βέλτιστος αριθμός clusters σύμφωνα με την μέθοδο Elbow είναι: {optimal_k}')\n"
   ]
  },
  {
   "cell_type": "markdown",
   "id": "dacf7669114fc73e",
   "metadata": {},
   "source": [
    "# Mέθοοδος Silouette για τον προσδιορισμό του ιδανικού αριθμού των clusters"
   ]
  },
  {
   "cell_type": "code",
   "execution_count": null,
   "id": "c4f9183ce25b7021",
   "metadata": {
    "tags": []
   },
   "outputs": [],
   "source": [
    "# Υπολογισμός του WCSS για διαφορετικούς αριθμούς clusters\n",
    "wcss = []\n",
    "silhouette_scores = []\n",
    "K = range(2, 11)  # Silhouette score is not defined for a single cluster, so we start from 2\n",
    "\n",
    "for k in K:\n",
    "    kmeans = KMeans(n_clusters=k, random_state=42)\n",
    "    kmeans.fit(X)\n",
    "    wcss.append(kmeans.inertia_)\n",
    "    score = silhouette_score(X, kmeans.labels_)\n",
    "    silhouette_scores.append(score)\n",
    "\n",
    "# Σχεδιασμός του Silhouette plot\n",
    "plt.figure(figsize=(10, 6))\n",
    "plt.plot(K, silhouette_scores, marker='o', color='r')\n",
    "plt.title('Silhouette Scores For Optimal Number of Clusters')\n",
    "plt.xlabel('Number of Clusters')\n",
    "plt.ylabel('Silhouette Score')\n",
    "plt.xticks(K)\n",
    "plt.grid(True)\n",
    "plt.show()\n",
    "\n",
    "# Εύρεση του βέλτιστου αριθμού clusters χρησιμοποιώντας το Silhouette Score\n",
    "optimal_k_silhouette = K[np.argmax(silhouette_scores)]\n",
    "\n",
    "# Εμφάνιση του βέλτιστου αριθμού clusters\n",
    "print(f'Ο βέλτιστος αριθμός clusters σύμφωνα με την μέθοδο Elbow είναι: {optimal_k}')\n",
    "print(f'Ο βέλτιστος αριθμός clusters σύμφωνα με το Silhouette Score είναι: {optimal_k_silhouette}')\n",
    "\n"
   ]
  },
  {
   "cell_type": "markdown",
   "id": "3c7e134d7cac1e4",
   "metadata": {},
   "source": [
    "# Εφαρμογή του Κ-Means με τον ιδανικό αριθμό των clusters απο τη μέθοδο Elbow"
   ]
  },
  {
   "cell_type": "code",
   "execution_count": null,
   "id": "b9efbf4b90aa3ac9",
   "metadata": {
    "tags": []
   },
   "outputs": [],
   "source": [
    "# Εμφανίζει τις πρώτες 3 γραμμές του πίνακα X\n",
    "X.head(3)"
   ]
  },
  {
   "cell_type": "code",
   "execution_count": null,
   "id": "7ef98d531d340fa2",
   "metadata": {
    "tags": []
   },
   "outputs": [],
   "source": [
    "#Εκπαίδευση του μοντέλου\n",
    "fitted_kmeans = model.fit(X)"
   ]
  },
  {
   "cell_type": "code",
   "execution_count": null,
   "id": "242dc041743057b8",
   "metadata": {
    "tags": []
   },
   "outputs": [],
   "source": [
    "# Αυτή η εντολή χρησιμοποιεί το εκπαιδευμένο μοντέλο K-Means για να προβλέψει την ομάδα στην οποία ανήκει κάθε δείγμα στον πίνακα X\n",
    "y_pred = fitted_kmeans.predict(X)"
   ]
  },
  {
   "cell_type": "code",
   "execution_count": null,
   "id": "824313b69ba35e21",
   "metadata": {
    "tags": []
   },
   "outputs": [],
   "source": [
    "# Δημιουργεί ένα μοντέλο K-Means με 3 συστάδες, το εκπαιδεύει στα δεδομένα που περιέχονται στον πίνακα X και ταυτόχρονα προβλέπει τη συστάδα στην οποία ανήκει κάθε δείγμα. Το αποτέλεσμα της πρόβλεψης αποθηκεύεται στη μεταβλητή y_pred.\n",
    "y_pred = KMeans(n_clusters=3).fit_predict(X)"
   ]
  },
  {
   "cell_type": "code",
   "execution_count": null,
   "id": "936be230ec50ee00",
   "metadata": {
    "tags": []
   },
   "outputs": [],
   "source": [
    "#Δημιουργία μιας νέας στήλης 'cluster' στον πίνακα df που περιέχει τις προβλέψεις του μοντέλου K-Means\n",
    "df[\"cluster\"] = pd.DataFrame(y_pred, columns=[\"cluster\"])\n",
    "\n",
    "#Θέτει τη στήλη 'cluster' ως κατηγορική\n",
    "df[\"cluster\"] = df[\"cluster\"].astype('category')\n",
    "\n",
    "# Εκτυπώνει τον πίνακα y_pred\n",
    "y_pred"
   ]
  },
  {
   "cell_type": "code",
   "execution_count": null,
   "id": "66951c380358dde5",
   "metadata": {
    "tags": []
   },
   "outputs": [],
   "source": [
    "#Εμφανίζει τον αριθμό των παρατηρήσεων που ανήκουν σε κάθε cluster\n",
    "print(df.groupby('cluster', observed=True).size())"
   ]
  },
  {
   "cell_type": "code",
   "execution_count": null,
   "id": "6c905ac847ab6b74",
   "metadata": {},
   "outputs": [],
   "source": [
    "# Ανάκτηση των μοναδικών ετικετών clusters από το DataFrame\n",
    "cluster_labels = df['cluster'].unique()\n",
    "\n",
    "# Δημιουργία ενός διαγράμματος για κάθε cluster\n",
    "fig = plt.figure(figsize=(10, 7))\n",
    "ax = fig.add_subplot(111, projection='3d')\n",
    "\n",
    "# Δημιουργία διαγραμμάτων διασποράς για κάθε cluster\n",
    "for label in cluster_labels:\n",
    "    df_cluster = df[df['cluster'] == label]\n",
    "    ax.scatter(df_cluster['Fresh'], df_cluster['Milk'], df_cluster['Grocery'], label=f'Cluster {label}')\n",
    "\n",
    "# Ρυθμίσεις άξονα και υπόμνημα\n",
    "ax.set_xlabel('Fresh')\n",
    "ax.set_ylabel('Milk')\n",
    "ax.set_zlabel('Grocery')\n",
    "ax.legend()\n",
    "plt.title('3D Scatter Plot of Clusters')\n",
    "plt.show()"
   ]
  },
  {
   "cell_type": "markdown",
   "id": "18df9c835570cafc",
   "metadata": {},
   "source": [
    "# Ανάλυση των clusters μια προς μια"
   ]
  },
  {
   "cell_type": "code",
   "execution_count": null,
   "id": "6fe52c8c73bb5612",
   "metadata": {},
   "outputs": [],
   "source": [
    "# Η ανάλυση κάθε συστάδας ξεχωριστά περιλαμβάνει την εξέταση των χαρακτηριστικών και των στατιστικών στοιχείων κάθε συστάδας για την κατανόηση\n",
    "# των διαφορών και των ομοιοτήτων μεταξύ τους. Μπορούμε να προχωρήσουμε με αναλύσεις οπως περιγραφικά στατιστικά στοιχεία, οπτικοποιήσεις \n",
    "# και συγκρίσεις για κάθε συστάδα."
   ]
  },
  {
   "cell_type": "code",
   "execution_count": null,
   "id": "94b5d53c-6526-4d9f-9146-9413b2b180e7",
   "metadata": {},
   "outputs": [],
   "source": [
    "# Δεν ξερω γιατι μου δινει cluster NAN παροτι ειναι μηδενικο\n",
    "\n",
    "# Περιγραφικά στατιστικά για κάθε cluster\n",
    "for cluster in df['cluster'].unique():\n",
    "    print(f\"Cluster {cluster}:\")\n",
    "    print(df[df['cluster'] == cluster].describe())\n",
    "    print(\"\\n\")\n",
    "    \n",
    "# Ιστόγραμμα για κάθε χαρακτηριστικό ανά cluster\n",
    "features = ['Fresh', 'Milk', 'Grocery', 'Frozen', 'Detergents_Paper', 'Delicassen']\n",
    "for feature in features:\n",
    "    plt.figure(figsize=(10, 6))\n",
    "    for cluster in df['cluster'].unique():\n",
    "        sns.histplot(df[df['cluster'] == cluster][feature], kde=True, label=f'Cluster {cluster}', bins=20)\n",
    "    plt.title(f'Histogram of {feature} by Cluster')\n",
    "    plt.legend()\n",
    "    plt.show()\n",
    "    \n",
    "# Box plot για κάθε χαρακτηριστικό ανά cluster\n",
    "for feature in features:\n",
    "    plt.figure(figsize=(10, 6))\n",
    "    sns.boxplot(x='cluster', y=feature, data=df)\n",
    "    plt.title(f'Box Plot of {feature} by Cluster')\n",
    "    plt.show()"
   ]
  },
  {
   "cell_type": "markdown",
   "id": "3e35c15d-6486-4fbb-adb4-f19b5d08dbeb",
   "metadata": {},
   "source": [
    "Clustering Analysis:\n",
    "\n",
    "luster Descriptions:\n",
    "\n",
    "Cluster 1\n",
    "\n",
    "Count: 302\n",
    "Channel: Κατα κύριο λογο αγορες μεσω του καναλιου 1 (μέσος όρος = 1.12)\n",
    "Region: Οι περισσοτεροι πελάτες προερχονται απο το region 2 or 3 (μέσος όρος = 2,54)\n",
    "Fresh Products: Μέτρια δαπάνη (μέσος όρος = 14577,50)\n",
    "Milk: Χαμηλότερες δαπάνες (μέσος όρος = 3097,63)\n",
    "Grocery: Μέτριες δαπάνες (μέσος όρος = 3816,65)\n",
    "Frozen: Χαμηλές δαπάνες(μέσος όρος = 3571,50)\n",
    "Detergents_Paper: Χαμηλές δαπάνες (μέσος όρος = 830,71)\n",
    "Delicassen: Μέτριες δαπάνες (μέσος όρος = 1236,20)\n",
    "\n",
    "\n",
    "Cluster 0\n",
    "\n",
    "Count: 131\n",
    "Channel: Κατα κύριο λογο αγορες μεσω του καναλιου 2 (mean = 1.75)\n",
    "Region: Οι περισσοτεροι πελάτες προερχονται απο το region 2 or 3 (mean = 2.54)\n",
    "Fresh Products: Χαμηλότερες δαπάνες (mean = 4324.98)\n",
    "Milk: Υψηλότερες δαπάνες (mean = 9624.91)\n",
    "Grocery: Υψηλότερες δαπάνες (mean = 14850.79)\n",
    "Frozen: Χαμηλότερες δαπάνες (mean = 1503.43)\n",
    "Detergents_Paper: Υψηλότερες δαπάνες (mean = 6532.10)\n",
    "Delicassen: Μέτριες δαπάνες (mean = 1589.31)\n",
    "\n",
    "\n",
    "Cluster 2\n",
    "\n",
    "Count: 9\n",
    "Channel: Κατα κύριο λογο αγορες μεσω του καναλιου 2 (mean = 1.78)\n",
    "Region: Οι περισσοτεροι πελάτες προερχονται απο το region 2 or 3 (mean = 2.67)\n",
    "Fresh Products: Πολύ Υψηλότερες δαπάνες (mean = 35056.11)\n",
    "Milk: Πολύ Υψηλότερες δαπάνες (mean = 39514.33)\n",
    "Grocery:Πολύ Υψηλότερες δαπάνες (mean = 45265.78)\n",
    "Frozen: Μέτριες δαπάνες (mean = 8483.22)\n",
    "Detergents_Paper: Πολύ Υψηλότερες δαπάνες (mean = 19867.22)\n",
    "Delicassen: Πολύ Υψηλότερες δαπάνες (mean = 9936.67)\n",
    "\n",
    "Insights from Clusters:\n",
    "Channel and Region:\n",
    "\n",
    "Cluster 1 and Cluster 0 αποτελούνται κυρίως από πελάτες από το κανάλι 1 και το κανάλι 2 αντίστοιχα. Αυτό θα μπορούσε να υποδηλώνει διαφορετική αγοραστική συμπεριφορά ανάλογα με το είδος του καναλιού.\n",
    "Όλες οι συστάδες έχουν παρόμοια κατανομή όσον αφορά τις περιοχές, κυρίως από την περιοχή 2 και την περιοχή 3.\n",
    "Spending Patterns:\n",
    "\n",
    "Cluster 1: Αντικατοπτρίζει μέτρια δαπάνη σε fresh products, με μικροτερη δαπάνη σε milk, groceries, frozen products, detergents_paper, and delicatessen items.\n",
    "Cluster 0: Αντικατοπτρίζει χαμηλή δαπάνη σε fresh products αλλα υψηλότερη δαπάνη σε milk, groceries, and detergents_paper. This cluster indicates customers who prioritize dairy and grocery items over fresh products.\n",
    "Cluster 2: Αντικατοπτρίζει πολυ υψιλή δαπάνη σε ολες σχεδόν τις κατηγορίες. Αυτή η ομάδα είναι πιθανό να αποτελείται από πελάτες υψηλής αξίας που αγοράζουν μεγάλες ποσότητες σε όλες τις κατηγορίες προϊόντων.\n",
    "\n",
    "Histograms and Box Plots Analysis:\n",
    "\n",
    "Histograms: Δείχνει την κατανομή των δαπανών σε διάφορες ομάδες. \n",
    "\n",
    "Cluster 1 έχει πιο ευρεία κατανομή στις δαπάνες για fresh product.\n",
    "Cluster 0 έχει μεγαλύτερη συγκέντρωση δαπανών στις κατηγορίες γάλακτος και παντοπωλείου.\n",
    "Cluster 2, αν και μικρότερο σε αριθμό, παρουσιάζει σημαντικά υψηλότερες δαπάνες σε όλες τις κατηγορίες.\n",
    "\n",
    "Box Plots: Παρέχουν μια σύγκριση των κατανομών και αποκαλύπτουν τη διασπορά, την κεντρική τάση και τις ακραίες τιμές σε κάθε ομάδα για κάθε μεταβλητή:\n",
    "\n",
    "Fresh products: Η συστάδα 2 έχει τις υψηλότερες δαπάνες, ακολουθούμενη από τη συστάδα 1 και στη συνέχεια τη συστάδα 0.\n",
    "\n",
    "Milk and Groceries: Η συστάδα 2 προηγείται και πάλι στις δαπάνες, υποδεικνύοντας ότι αυτοί οι πελάτες είναι πολύ δαπανηροί.\n",
    "\n",
    "Detergents_Paper and Delicassen: Η συστάδα 2 παρουσιάζει πολύ υψηλές δαπάνες, υποδεικνύοντας ότι οι πελάτες αυτοί αγοράζουν πολλά είδη οικιακής χρήσης και είδη delicatessen.\n",
    "\n",
    "Συμπεράσματα:\n",
    "\n",
    "Η ομαδοποίηση αποκαλύπτει τρεις διακριτές ομάδες πελατών με βάση τις καταναλωτικές τους συνήθειες:\n",
    "\n",
    "Cluster 1: Καταναλωτές με μετρια καταναλωτικη ταση προς τα φρέσκα προϊόντα.\n",
    "Cluster 0: Πελάτες που δίνουν προτεραιότητα στο γάλα, τα είδη παντοπωλείου και τις οικιακές προμήθειες, υποδηλώνοντας εστίαση σε καθημερινά είδη πρώτης ανάγκης.\n",
    "Cluster 2: Πελάτες υψηλής αξίας που ξοδεύουν σημαντικά σε όλες τις κατηγορίες προϊόντων, υποδεικνύοντας ότι μπορεί να είναι μαζικοί αγοραστές ή νοικοκυριά με υψηλό εισόδημα.\n",
    "\n",
    "Αυτές οι πληροφορίες μπορούν να βοηθήσουν στη στόχευση στρατηγικών μάρκετινγκ, στη διαχείριση αποθεμάτων και στην εξατομικευμένη εξυπηρέτηση πελατών για διαφορετικά τμήματα πελατών. Η κατανόηση αυτών των προτύπων δαπάνης βοηθά επίσης στην προσαρμογή των προωθητικών \n",
    "ενεργειών και των προσφορών ώστε να ανταποκρίνονται στις ανάγκες κάθε ομάδας, βελτιστοποιώντας τις πωλήσεις και την ικανοποίηση των πελατών."
   ]
  },
  {
   "cell_type": "code",
   "execution_count": null,
   "id": "e4ccab4c-6d03-48d5-bbdf-bf87e520ab35",
   "metadata": {},
   "outputs": [],
   "source": []
  },
  {
   "cell_type": "code",
   "execution_count": null,
   "id": "24485984-1673-4d3b-b20e-6968a2d07d4a",
   "metadata": {},
   "outputs": [],
   "source": []
  }
 ],
 "metadata": {
  "kernelspec": {
   "display_name": "Python 3 (ipykernel)",
   "language": "python",
   "name": "python3"
  },
  "language_info": {
   "codemirror_mode": {
    "name": "ipython",
    "version": 3
   },
   "file_extension": ".py",
   "mimetype": "text/x-python",
   "name": "python",
   "nbconvert_exporter": "python",
   "pygments_lexer": "ipython3",
   "version": "3.11.8"
  }
 },
 "nbformat": 4,
 "nbformat_minor": 5
}
